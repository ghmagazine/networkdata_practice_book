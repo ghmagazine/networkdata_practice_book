{
  "nbformat": 4,
  "nbformat_minor": 0,
  "metadata": {
    "colab": {
      "provenance": [],
      "machine_shape": "hm",
      "gpuType": "T4"
    },
    "kernelspec": {
      "name": "python3",
      "display_name": "Python 3"
    },
    "language_info": {
      "name": "python"
    },
    "accelerator": "GPU"
  },
  "cells": [
    {
      "cell_type": "markdown",
      "source": [
        "# 第2章 ネットワークデータの発見・観測・構築"
      ],
      "metadata": {
        "id": "3O34S02fMgWW"
      }
    },
    {
      "cell_type": "markdown",
      "source": [
        "### 必要なライブラリのインポート\n",
        "まず、`networkx` を使用したネットワークオブジェクトの作成方法とその扱いを紹介します。"
      ],
      "metadata": {
        "id": "GIZpATZ1dJWJ"
      }
    },
    {
      "cell_type": "code",
      "execution_count": 1,
      "metadata": {
        "id": "pQYQ_SBMVH6d"
      },
      "outputs": [],
      "source": [
        "# ライブラリの読み込み\n",
        "import networkx as nx\n",
        "import numpy as np\n",
        "\n",
        "import random\n",
        "random.seed(246)"
      ]
    },
    {
      "cell_type": "code",
      "source": [
        "# Graphインスタンスの初期化\n",
        "G = nx.Graph()"
      ],
      "metadata": {
        "id": "2x7USd4SVKOK"
      },
      "execution_count": 2,
      "outputs": []
    },
    {
      "cell_type": "markdown",
      "source": [
        "### Graphオブジェクトを作る"
      ],
      "metadata": {
        "id": "UZmkjb0DtqMl"
      }
    },
    {
      "cell_type": "markdown",
      "source": [
        "エッジリストからの作成\n",
        "\n",
        "リスト形式で定義されたエッジ（タプル）の集合を `networkx.Graph` に追加して、グラフを構築します。"
      ],
      "metadata": {
        "id": "_D67KDXsqb7Y"
      }
    },
    {
      "cell_type": "code",
      "source": [
        "# エッジリストからGraphオブジェクトの作成\n",
        "edge_list = [\n",
        "    (\"v1\", \"v2\"),\n",
        "    (\"v1\", \"v3\"),\n",
        "    (\"v1\", \"v5\"),\n",
        "    (\"v2\", \"v3\"),\n",
        "    (\"v2\", \"v4\"),\n",
        "    (\"v3\", \"v4\"),\n",
        "    (\"v3\", \"v6\"),\n",
        "    (\"v5\", \"v6\"),\n",
        "    (\"v6\", \"v7\"),\n",
        "]\n",
        "\n",
        "G = nx.Graph(edge_list)\n",
        "nx.draw(G, with_labels=True)"
      ],
      "metadata": {
        "colab": {
          "base_uri": "https://localhost:8080/",
          "height": 516
        },
        "id": "Hm5VR007WBYv",
        "outputId": "6766e65e-8b29-4478-cc94-b90cf310d294"
      },
      "execution_count": 3,
      "outputs": [
        {
          "output_type": "display_data",
          "data": {
            "text/plain": [
              "<Figure size 640x480 with 1 Axes>"
            ],
            "image/png": "[encoded data removed]"
          },
          "metadata": {}
        }
      ]
    },
    {
      "cell_type": "markdown",
      "source": [
        "ネットワークに含まれるノードやエッジの一覧は次のように取得します。"
      ],
      "metadata": {
        "id": "5ESuUruftTpR"
      }
    },
    {
      "cell_type": "code",
      "source": [
        "# ノード一覧の確認\n",
        "print(G.nodes())\n",
        "# ノードに付随する情報も合わせて確認。（ここでは空）\n",
        "print(G.nodes(data=True))\n",
        "\n",
        "# エッジ一覧の確認\n",
        "print(G.edges())\n",
        "# エッジに付随する情報も合わせて確認。（ここでは空）\n",
        "print(G.edges(data=True))"
      ],
      "metadata": {
        "colab": {
          "base_uri": "https://localhost:8080/"
        },
        "id": "cjp_82DsxCet",
        "outputId": "7f2cd45d-02ca-435b-e24c-07da39803777"
      },
      "execution_count": 4,
      "outputs": [
        {
          "output_type": "stream",
          "name": "stdout",
          "text": [
            "['v1', 'v2', 'v3', 'v5', 'v4', 'v6', 'v7']\n",
            "[('v1', {}), ('v2', {}), ('v3', {}), ('v5', {}), ('v4', {}), ('v6', {}), ('v7', {})]\n",
            "[('v1', 'v2'), ('v1', 'v3'), ('v1', 'v5'), ('v2', 'v3'), ('v2', 'v4'), ('v3', 'v4'), ('v3', 'v6'), ('v5', 'v6'), ('v6', 'v7')]\n",
            "[('v1', 'v2', {}), ('v1', 'v3', {}), ('v1', 'v5', {}), ('v2', 'v3', {}), ('v2', 'v4', {}), ('v3', 'v4', {}), ('v3', 'v6', {}), ('v5', 'v6', {}), ('v6', 'v7', {})]\n"
          ]
        }
      ]
    },
    {
      "cell_type": "code",
      "source": [
        "# 命名の対応を作成する\n",
        "mapping = {\n",
        "    \"v1\": \"a\",\n",
        "    \"v2\": \"b\",\n",
        "    \"v3\": \"c\",\n",
        "}\n",
        "\n",
        "# 命名の対応にしたがって名前をつける\n",
        "H = nx.relabel_nodes(G, mapping)\n",
        "print(H.nodes())"
      ],
      "metadata": {
        "colab": {
          "base_uri": "https://localhost:8080/"
        },
        "id": "Zq1xvucmaXzE",
        "outputId": "00c9c310-6d4e-44aa-90e7-a63118115dc5"
      },
      "execution_count": 5,
      "outputs": [
        {
          "output_type": "stream",
          "name": "stdout",
          "text": [
            "['a', 'b', 'c', 'v5', 'v4', 'v6', 'v7']\n"
          ]
        }
      ]
    },
    {
      "cell_type": "markdown",
      "source": [
        "隣接リストから作成する場合には、次のようにします。"
      ],
      "metadata": {
        "id": "SnJu1K7KqeUI"
      }
    },
    {
      "cell_type": "code",
      "source": [
        "# 隣接リストの作成\n",
        "adj_list = {\n",
        "    \"v1\": [\"v2\", \"v3\", \"v5\"],\n",
        "    \"v2\": [\"v1\", \"v3\", \"v4\"],\n",
        "    \"v3\": [\"v1\", \"v2\", \"v4\", \"v6\"],\n",
        "    \"v4\": [\"v2\", \"v3\"],\n",
        "    \"v5\": [\"v1\", \"v6\"],\n",
        "    \"v6\": [\"v3\", \"v5\", \"v7\"],\n",
        "    \"v7\": [\"v6\"],\n",
        "}\n",
        "\n",
        "# 隣接リストからGraphオブジェクトの作成\n",
        "G = nx.Graph(adj_list)\n",
        "nx.draw(G, with_labels=True)"
      ],
      "metadata": {
        "colab": {
          "base_uri": "https://localhost:8080/",
          "height": 516
        },
        "id": "07Jdustsqh4C",
        "outputId": "9903d48b-de37-4be9-b8ef-5660c5a344a9"
      },
      "execution_count": 6,
      "outputs": [
        {
          "output_type": "display_data",
          "data": {
            "text/plain": [
              "<Figure size 640x480 with 1 Axes>"
            ],
            "image/png": "[encoded data removed]"
          },
          "metadata": {}
        }
      ]
    },
    {
      "cell_type": "markdown",
      "source": [
        "隣接行列から作成する場合には以下のようにします"
      ],
      "metadata": {
        "id": "_qg3NtcSq582"
      }
    },
    {
      "cell_type": "code",
      "source": [
        "# 隣接行列の作成\n",
        "adj_matrix = np.array(\n",
        "    [[0, 1, 1, 0, 1, 0, 0],\n",
        "    [1, 0, 1, 1, 0, 0, 0],\n",
        "    [1, 1, 0, 1, 0, 1, 0],\n",
        "    [0, 1, 1, 0, 0, 0, 0],\n",
        "    [1, 0, 0, 0, 0, 1, 0],\n",
        "    [0, 0, 1, 0, 1, 0, 1],\n",
        "    [0, 0, 0, 0, 0, 1, 0]],\n",
        ")\n",
        "\n",
        "# 隣接行列からGraphオブジェクトの作成\n",
        "G = nx.from_numpy_array(adj_matrix)\n",
        "nx.draw(G, with_labels=True)"
      ],
      "metadata": {
        "colab": {
          "base_uri": "https://localhost:8080/",
          "height": 516
        },
        "id": "cSQyLRZlrBzh",
        "outputId": "f7b88ab0-647c-4056-b624-07b8f9471400"
      },
      "execution_count": 7,
      "outputs": [
        {
          "output_type": "display_data",
          "data": {
            "text/plain": [
              "<Figure size 640x480 with 1 Axes>"
            ],
            "image/png": "[encoded data removed]"
          },
          "metadata": {}
        }
      ]
    },
    {
      "cell_type": "markdown",
      "source": [
        "最後に、`pandas`データフレームから作成する操作を紹介します"
      ],
      "metadata": {
        "id": "jcHXKCRvdzeM"
      }
    },
    {
      "cell_type": "code",
      "source": [
        "import pandas as pd\n",
        "import networkx as nx\n",
        "import matplotlib.pyplot as plt\n",
        "\n",
        "# データフレームの作成\n",
        "data = {\n",
        "    'source': ['A', 'B', 'C', 'A'],  # 辞書のキーが列名に対応\n",
        "    'target': ['D', 'A', 'E', 'C'],  # ノード間の接続情報を表す\n",
        "}\n",
        "df = pd.DataFrame(data)  # 辞書からDataFrameを作成\n",
        "\n",
        "# NetworkXグラフの作成\n",
        "# 第2・第3引数にはノードを示す列名を指定\n",
        "G_df = nx.from_pandas_edgelist(df, 'source', 'target')\n",
        "\n",
        "# グラフの描画\n",
        "nx.draw(G_df, with_labels=True)"
      ],
      "metadata": {
        "colab": {
          "base_uri": "https://localhost:8080/",
          "height": 516
        },
        "id": "ghyoX-RcAG7G",
        "outputId": "d33a48d0-916a-421a-ae2b-3929787c3255"
      },
      "execution_count": 8,
      "outputs": [
        {
          "output_type": "display_data",
          "data": {
            "text/plain": [
              "<Figure size 640x480 with 1 Axes>"
            ],
            "image/png": "[encoded data removed]"
          },
          "metadata": {}
        }
      ]
    },
    {
      "cell_type": "markdown",
      "source": [
        "### ノードやエッジを追加する．"
      ],
      "metadata": {
        "id": "DJoXth7KuQhj"
      }
    },
    {
      "cell_type": "markdown",
      "source": [
        "ノードやエッジを追加する場合には、次のようにします。"
      ],
      "metadata": {
        "id": "l-hG5cS733m8"
      }
    },
    {
      "cell_type": "code",
      "source": [
        "newG = G.copy()\n",
        "\n",
        "# ノード単体の追加\n",
        "newG.add_node(10)\n",
        "\n",
        "# エッジ単位での追加\n",
        "newG.add_edge(10, 11)\n",
        "\n",
        "# 複数のエッジの追加\n",
        "newG.add_edges_from([(11, 6), (10, 6)])\n",
        "nx.draw(newG, with_labels=True)"
      ],
      "metadata": {
        "colab": {
          "base_uri": "https://localhost:8080/",
          "height": 516
        },
        "id": "yyVDf6Emuai8",
        "outputId": "e7efca22-4c97-4ee4-f038-d910dfa16ec7"
      },
      "execution_count": 9,
      "outputs": [
        {
          "output_type": "display_data",
          "data": {
            "text/plain": [
              "<Figure size 640x480 with 1 Axes>"
            ],
            "image/png": "[encoded data removed]"
          },
          "metadata": {}
        }
      ]
    },
    {
      "cell_type": "markdown",
      "source": [
        "### ノードやエッジに情報を追加する\n"
      ],
      "metadata": {
        "id": "Tlrh_-BFttzM"
      }
    },
    {
      "cell_type": "markdown",
      "source": [
        "`Graph` オブジェクトには、ノードやエッジに情報（特徴量）を付与することができます"
      ],
      "metadata": {
        "id": "lT5Bqkmf37i2"
      }
    },
    {
      "cell_type": "code",
      "source": [
        "newG = G.copy()\n",
        "\n",
        "# ノードの属性情報の追加\n",
        "newG.nodes[0]['name'] = \"v1\"\n",
        "newG.nodes[0][\"signal\"] = 1.3\n",
        "\n",
        "# 複数のノードに属性情報を追加\n",
        "newG.add_nodes_from(\n",
        "    [\n",
        "        (1, {\"name\": \"v2\", \"signal\": 1.4}),\n",
        "        (2, {\"name\": \"v3\", \"signal\": 1.5}),\n",
        "    ]\n",
        ")\n",
        "\n",
        "\n",
        "# エッジに属性情報を追加\n",
        "newG.edges[0, 4]['weight'] = 2\n",
        "# custom attr\n",
        "newG.edges[0, 4]['name'] = \"fuga\"\n",
        "\n",
        "# ノード情報の表示\n",
        "print(newG.nodes(data=True))\n",
        "\n",
        "# エッジ情報の表示\n",
        "print(newG.edges(data=True))"
      ],
      "metadata": {
        "colab": {
          "base_uri": "https://localhost:8080/"
        },
        "id": "ynVrHfOmwAOE",
        "outputId": "65c34d74-04f1-44c3-c201-c8cf3f6810dc"
      },
      "execution_count": 10,
      "outputs": [
        {
          "output_type": "stream",
          "name": "stdout",
          "text": [
            "[(0, {'name': 'v1', 'signal': 1.3}), (1, {'name': 'v2', 'signal': 1.4}), (2, {'name': 'v3', 'signal': 1.5}), (3, {}), (4, {}), (5, {}), (6, {})]\n",
            "[(0, 1, {'weight': 1}), (0, 2, {'weight': 1}), (0, 4, {'weight': 2, 'name': 'fuga'}), (1, 2, {'weight': 1}), (1, 3, {'weight': 1}), (2, 3, {'weight': 1}), (2, 5, {'weight': 1}), (4, 5, {'weight': 1}), (5, 6, {'weight': 1})]\n"
          ]
        }
      ]
    },
    {
      "cell_type": "markdown",
      "source": [
        "`get_node_attribute()`や`get_edge_attribute()`を用いて特徴量を確認することもできます"
      ],
      "metadata": {
        "id": "fCcHHkeO4M9J"
      }
    },
    {
      "cell_type": "code",
      "source": [
        "# 別の方法\n",
        "print(nx.get_node_attributes(newG, \"name\"))\n",
        "print(nx.get_node_attributes(newG, \"signal\"))"
      ],
      "metadata": {
        "colab": {
          "base_uri": "https://localhost:8080/"
        },
        "id": "JrMhy8enyzvg",
        "outputId": "e355c4e4-3383-4bde-fa18-09320253c670"
      },
      "execution_count": 11,
      "outputs": [
        {
          "output_type": "stream",
          "name": "stdout",
          "text": [
            "{0: 'v1', 1: 'v2', 2: 'v3'}\n",
            "{0: 1.3, 1: 1.4, 2: 1.5}\n"
          ]
        }
      ]
    },
    {
      "cell_type": "code",
      "source": [
        "print(nx.get_edge_attributes(newG, \"weight\"))\n",
        "print(nx.get_edge_attributes(newG, \"name\"))"
      ],
      "metadata": {
        "colab": {
          "base_uri": "https://localhost:8080/"
        },
        "id": "DCdxiUsFzHIj",
        "outputId": "7a6d03f6-53d3-4cf6-c4c9-97bb03f9bbd7"
      },
      "execution_count": 12,
      "outputs": [
        {
          "output_type": "stream",
          "name": "stdout",
          "text": [
            "{(0, 1): 1, (0, 2): 1, (0, 4): 2, (1, 2): 1, (1, 3): 1, (2, 3): 1, (2, 5): 1, (4, 5): 1, (5, 6): 1}\n",
            "{(0, 4): 'fuga'}\n"
          ]
        }
      ]
    },
    {
      "cell_type": "markdown",
      "source": [
        "## PyTorch Geometric"
      ],
      "metadata": {
        "id": "wRgu85oHzY00"
      }
    },
    {
      "cell_type": "markdown",
      "source": [
        "続いて、深層学習をネットワークデータに適用するためのライブラリであるPyTorch Geometricでのデータの扱いについて簡単に紹介します。"
      ],
      "metadata": {
        "id": "-xihc4Nn4hPm"
      }
    },
    {
      "cell_type": "markdown",
      "source": [
        "## 必要なパッケージのインストール"
      ],
      "metadata": {
        "id": "f71nbgtp1KwG"
      }
    },
    {
      "cell_type": "code",
      "source": [
        "!pip install torch_geometric\n",
        "import torch\n",
        "import torch_geometric\n",
        "from torch_geometric.data import Data"
      ],
      "metadata": {
        "colab": {
          "base_uri": "https://localhost:8080/"
        },
        "id": "eUsYm5iZzcOL",
        "outputId": "a0ed5f1f-5d53-4675-ce1b-556c78384e33"
      },
      "execution_count": 13,
      "outputs": [
        {
          "output_type": "stream",
          "name": "stdout",
          "text": [
            "Collecting torch_geometric\n",
            "  Downloading torch_geometric-2.6.1-py3-none-any.whl.metadata (63 kB)\n",
            "\u001b[?25l     \u001b[90m━━━━━━━━━━━━━━━━━━━━━━━━━━━━━━━━━━━━━━━━\u001b[0m \u001b[32m0.0/63.1 kB\u001b[0m \u001b[31m?\u001b[0m eta \u001b[36m-:--:--\u001b[0m\r\u001b[2K     \u001b[90m━━━━━━━━━━━━━━━━━━━━━━━━━━━━━━━━━━━━━━━━\u001b[0m \u001b[32m63.1/63.1 kB\u001b[0m \u001b[31m4.0 MB/s\u001b[0m eta \u001b[36m0:00:00\u001b[0m\n",
            "\u001b[?25hRequirement already satisfied: aiohttp in /usr/local/lib/python3.11/dist-packages (from torch_geometric) (3.11.12)\n",
            "Requirement already satisfied: fsspec in /usr/local/lib/python3.11/dist-packages (from torch_geometric) (2024.10.0)\n",
            "Requirement already satisfied: jinja2 in /usr/local/lib/python3.11/dist-packages (from torch_geometric) (3.1.5)\n",
            "Requirement already satisfied: numpy in /usr/local/lib/python3.11/dist-packages (from torch_geometric) (1.26.4)\n",
            "Requirement already satisfied: psutil>=5.8.0 in /usr/local/lib/python3.11/dist-packages (from torch_geometric) (5.9.5)\n",
            "Requirement already satisfied: pyparsing in /usr/local/lib/python3.11/dist-packages (from torch_geometric) (3.2.1)\n",
            "Requirement already satisfied: requests in /usr/local/lib/python3.11/dist-packages (from torch_geometric) (2.32.3)\n",
            "Requirement already satisfied: tqdm in /usr/local/lib/python3.11/dist-packages (from torch_geometric) (4.67.1)\n",
            "Requirement already satisfied: aiohappyeyeballs>=2.3.0 in /usr/local/lib/python3.11/dist-packages (from aiohttp->torch_geometric) (2.4.4)\n",
            "Requirement already satisfied: aiosignal>=1.1.2 in /usr/local/lib/python3.11/dist-packages (from aiohttp->torch_geometric) (1.3.2)\n",
            "Requirement already satisfied: attrs>=17.3.0 in /usr/local/lib/python3.11/dist-packages (from aiohttp->torch_geometric) (25.1.0)\n",
            "Requirement already satisfied: frozenlist>=1.1.1 in /usr/local/lib/python3.11/dist-packages (from aiohttp->torch_geometric) (1.5.0)\n",
            "Requirement already satisfied: multidict<7.0,>=4.5 in /usr/local/lib/python3.11/dist-packages (from aiohttp->torch_geometric) (6.1.0)\n",
            "Requirement already satisfied: propcache>=0.2.0 in /usr/local/lib/python3.11/dist-packages (from aiohttp->torch_geometric) (0.2.1)\n",
            "Requirement already satisfied: yarl<2.0,>=1.17.0 in /usr/local/lib/python3.11/dist-packages (from aiohttp->torch_geometric) (1.18.3)\n",
            "Requirement already satisfied: MarkupSafe>=2.0 in /usr/local/lib/python3.11/dist-packages (from jinja2->torch_geometric) (3.0.2)\n",
            "Requirement already satisfied: charset-normalizer<4,>=2 in /usr/local/lib/python3.11/dist-packages (from requests->torch_geometric) (3.4.1)\n",
            "Requirement already satisfied: idna<4,>=2.5 in /usr/local/lib/python3.11/dist-packages (from requests->torch_geometric) (3.10)\n",
            "Requirement already satisfied: urllib3<3,>=1.21.1 in /usr/local/lib/python3.11/dist-packages (from requests->torch_geometric) (2.3.0)\n",
            "Requirement already satisfied: certifi>=2017.4.17 in /usr/local/lib/python3.11/dist-packages (from requests->torch_geometric) (2025.1.31)\n",
            "Downloading torch_geometric-2.6.1-py3-none-any.whl (1.1 MB)\n",
            "\u001b[2K   \u001b[90m━━━━━━━━━━━━━━━━━━━━━━━━━━━━━━━━━━━━━━━━\u001b[0m \u001b[32m1.1/1.1 MB\u001b[0m \u001b[31m32.2 MB/s\u001b[0m eta \u001b[36m0:00:00\u001b[0m\n",
            "\u001b[?25hInstalling collected packages: torch_geometric\n",
            "Successfully installed torch_geometric-2.6.1\n"
          ]
        }
      ]
    },
    {
      "cell_type": "markdown",
      "source": [
        "## PyTorch Geometricにおけるネットワークデータの作成"
      ],
      "metadata": {
        "id": "OMpEIeLM1OGx"
      }
    },
    {
      "cell_type": "markdown",
      "source": [
        "`Data` オブジェクトは次のように作成します。\n",
        "\n",
        "ここでは例として、3 つのノード(0, 1, 2)をもつ無向ネットワークを作成しています。また、ノード 0 と 1 、ノード 1 と 2 を それぞれ双方向で接続し、各ノードには 1 つの特徴量を設定しています。"
      ],
      "metadata": {
        "id": "V2UZW_J91TYD"
      }
    },
    {
      "cell_type": "code",
      "source": [
        "edge_index = torch.tensor(\n",
        "    [\n",
        "        [0, 1, 1, 2],\n",
        "         [1, 0, 2, 1]\n",
        "     ],\n",
        "    dtype=torch.long\n",
        "  )\n",
        "x = torch.tensor([[-1], [0], [1]], dtype=torch.float)\n",
        "\n",
        "G = Data(x=x, edge_index=edge_index)"
      ],
      "metadata": {
        "id": "Lt5ZaljE0oS8"
      },
      "execution_count": 14,
      "outputs": []
    },
    {
      "cell_type": "markdown",
      "source": [
        "## 既存データセットの読み込み"
      ],
      "metadata": {
        "id": "_P88CX560m_G"
      }
    },
    {
      "cell_type": "markdown",
      "source": [
        "PyTorch Geometric にはたくさんのデータセットが用意されており、`torch_geometric.datasets` から読み込むことができます"
      ],
      "metadata": {
        "id": "S3EcLySQ1qxt"
      }
    },
    {
      "cell_type": "code",
      "source": [
        "from torch_geometric.datasets import Planetoid\n",
        "dataset = Planetoid(root=\"./Cora\",name= \"Cora\")"
      ],
      "metadata": {
        "colab": {
          "base_uri": "https://localhost:8080/"
        },
        "id": "JA9jF9PIz48i",
        "outputId": "3b580303-bff0-40b2-fd3b-f867637c1dd2"
      },
      "execution_count": 15,
      "outputs": [
        {
          "output_type": "stream",
          "name": "stderr",
          "text": [
            "Downloading https://github.com/kimiyoung/planetoid/raw/master/data/ind.cora.x\n",
            "Downloading https://github.com/kimiyoung/planetoid/raw/master/data/ind.cora.tx\n",
            "Downloading https://github.com/kimiyoung/planetoid/raw/master/data/ind.cora.allx\n",
            "Downloading https://github.com/kimiyoung/planetoid/raw/master/data/ind.cora.y\n",
            "Downloading https://github.com/kimiyoung/planetoid/raw/master/data/ind.cora.ty\n",
            "Downloading https://github.com/kimiyoung/planetoid/raw/master/data/ind.cora.ally\n",
            "Downloading https://github.com/kimiyoung/planetoid/raw/master/data/ind.cora.graph\n",
            "Downloading https://github.com/kimiyoung/planetoid/raw/master/data/ind.cora.test.index\n",
            "Processing...\n",
            "Done!\n"
          ]
        }
      ]
    },
    {
      "cell_type": "code",
      "source": [
        "type(dataset)"
      ],
      "metadata": {
        "colab": {
          "base_uri": "https://localhost:8080/",
          "height": 222
        },
        "id": "C4Xr2LenzbbI",
        "outputId": "0510084b-ecad-4e9f-cdc6-bec922eb0ae0"
      },
      "execution_count": 16,
      "outputs": [
        {
          "output_type": "execute_result",
          "data": {
            "text/plain": [
              "torch_geometric.datasets.planetoid.Planetoid"
            ],
            "text/html": [
              "<div style=\"max-width:800px; border: 1px solid var(--colab-border-color);\"><style>\n",
              "      pre.function-repr-contents {\n",
              "        overflow-x: auto;\n",
              "        padding: 8px 12px;\n",
              "        max-height: 500px;\n",
              "      }\n",
              "\n",
              "      pre.function-repr-contents.function-repr-contents-collapsed {\n",
              "        cursor: pointer;\n",
              "        max-height: 100px;\n",
              "      }\n",
              "    </style>\n",
              "    <pre style=\"white-space: initial; background:\n",
              "         var(--colab-secondary-surface-color); padding: 8px 12px;\n",
              "         border-bottom: 1px solid var(--colab-border-color);\"><b>torch_geometric.datasets.planetoid.Planetoid</b><br/>def __init__(root: str, name: str, split: str=&#x27;public&#x27;, num_train_per_class: int=20, num_val: int=500, num_test: int=1000, transform: Optional[Callable]=None, pre_transform: Optional[Callable]=None, force_reload: bool=False) -&gt; None</pre><pre class=\"function-repr-contents function-repr-contents-collapsed\" style=\"\"><a class=\"filepath\" style=\"display:none\" href=\"#\">/usr/local/lib/python3.11/dist-packages/torch_geometric/datasets/planetoid.py</a>The citation network datasets :obj:`&quot;Cora&quot;`, :obj:`&quot;CiteSeer&quot;` and\n",
              ":obj:`&quot;PubMed&quot;` from the `&quot;Revisiting Semi-Supervised Learning with Graph\n",
              "Embeddings&quot; &lt;https://arxiv.org/abs/1603.08861&gt;`_ paper.\n",
              "Nodes represent documents and edges represent citation links.\n",
              "Training, validation and test splits are given by binary masks.\n",
              "\n",
              "Args:\n",
              "    root (str): Root directory where the dataset should be saved.\n",
              "    name (str): The name of the dataset (:obj:`&quot;Cora&quot;`, :obj:`&quot;CiteSeer&quot;`,\n",
              "        :obj:`&quot;PubMed&quot;`).\n",
              "    split (str, optional): The type of dataset split (:obj:`&quot;public&quot;`,\n",
              "        :obj:`&quot;full&quot;`, :obj:`&quot;geom-gcn&quot;`, :obj:`&quot;random&quot;`).\n",
              "        If set to :obj:`&quot;public&quot;`, the split will be the public fixed split\n",
              "        from the `&quot;Revisiting Semi-Supervised Learning with Graph\n",
              "        Embeddings&quot; &lt;https://arxiv.org/abs/1603.08861&gt;`_ paper.\n",
              "        If set to :obj:`&quot;full&quot;`, all nodes except those in the validation\n",
              "        and test sets will be used for training (as in the\n",
              "        `&quot;FastGCN: Fast Learning with Graph Convolutional Networks via\n",
              "        Importance Sampling&quot; &lt;https://arxiv.org/abs/1801.10247&gt;`_ paper).\n",
              "        If set to :obj:`&quot;geom-gcn&quot;`, the 10 public fixed splits from the\n",
              "        `&quot;Geom-GCN: Geometric Graph Convolutional Networks&quot;\n",
              "        &lt;https://openreview.net/forum?id=S1e2agrFvS&gt;`_ paper are given.\n",
              "        If set to :obj:`&quot;random&quot;`, train, validation, and test sets will be\n",
              "        randomly generated, according to :obj:`num_train_per_class`,\n",
              "        :obj:`num_val` and :obj:`num_test`. (default: :obj:`&quot;public&quot;`)\n",
              "    num_train_per_class (int, optional): The number of training samples\n",
              "        per class in case of :obj:`&quot;random&quot;` split. (default: :obj:`20`)\n",
              "    num_val (int, optional): The number of validation samples in case of\n",
              "        :obj:`&quot;random&quot;` split. (default: :obj:`500`)\n",
              "    num_test (int, optional): The number of test samples in case of\n",
              "        :obj:`&quot;random&quot;` split. (default: :obj:`1000`)\n",
              "    transform (callable, optional): A function/transform that takes in an\n",
              "        :obj:`torch_geometric.data.Data` object and returns a transformed\n",
              "        version. The data object will be transformed before every access.\n",
              "        (default: :obj:`None`)\n",
              "    pre_transform (callable, optional): A function/transform that takes in\n",
              "        an :obj:`torch_geometric.data.Data` object and returns a\n",
              "        transformed version. The data object will be transformed before\n",
              "        being saved to disk. (default: :obj:`None`)\n",
              "    force_reload (bool, optional): Whether to re-process the dataset.\n",
              "        (default: :obj:`False`)\n",
              "\n",
              "**STATS:**\n",
              "\n",
              ".. list-table::\n",
              "    :widths: 10 10 10 10 10\n",
              "    :header-rows: 1\n",
              "\n",
              "    * - Name\n",
              "      - #nodes\n",
              "      - #edges\n",
              "      - #features\n",
              "      - #classes\n",
              "    * - Cora\n",
              "      - 2,708\n",
              "      - 10,556\n",
              "      - 1,433\n",
              "      - 7\n",
              "    * - CiteSeer\n",
              "      - 3,327\n",
              "      - 9,104\n",
              "      - 3,703\n",
              "      - 6\n",
              "    * - PubMed\n",
              "      - 19,717\n",
              "      - 88,648\n",
              "      - 500\n",
              "      - 3</pre>\n",
              "      <script>\n",
              "      if (google.colab.kernel.accessAllowed && google.colab.files && google.colab.files.view) {\n",
              "        for (const element of document.querySelectorAll('.filepath')) {\n",
              "          element.style.display = 'block'\n",
              "          element.onclick = (event) => {\n",
              "            event.preventDefault();\n",
              "            event.stopPropagation();\n",
              "            google.colab.files.view(element.textContent, 11);\n",
              "          };\n",
              "        }\n",
              "      }\n",
              "      for (const element of document.querySelectorAll('.function-repr-contents')) {\n",
              "        element.onclick = (event) => {\n",
              "          event.preventDefault();\n",
              "          event.stopPropagation();\n",
              "          element.classList.toggle('function-repr-contents-collapsed');\n",
              "        };\n",
              "      }\n",
              "      </script>\n",
              "      </div>"
            ]
          },
          "metadata": {},
          "execution_count": 16
        }
      ]
    },
    {
      "cell_type": "markdown",
      "source": [
        "PlanetoidのCoraデータセットに含まれるデータを確認します。"
      ],
      "metadata": {
        "id": "Z96VLrkd0zmm"
      }
    },
    {
      "cell_type": "code",
      "source": [
        "print(dataset)\n",
        "print(\"ネットワークの数:\",len(dataset))\n",
        "print(\"ノードのクラス数:\",dataset.num_classes)\n",
        "print(\"ノードの特徴量の次元数:\",dataset.num_node_features)\n",
        "print(\"エッジの特徴量の次元数:\",dataset.num_edge_features)"
      ],
      "metadata": {
        "colab": {
          "base_uri": "https://localhost:8080/"
        },
        "id": "2Byo8zQ00S68",
        "outputId": "b112f423-864c-41c6-eb4f-32f9e17963b8"
      },
      "execution_count": 17,
      "outputs": [
        {
          "output_type": "stream",
          "name": "stdout",
          "text": [
            "Cora()\n",
            "ネットワークの数: 1\n",
            "ノードのクラス数: 7\n",
            "ノードの特徴量の次元数: 1433\n",
            "エッジの特徴量の次元数: 0\n"
          ]
        }
      ]
    },
    {
      "cell_type": "markdown",
      "source": [
        "`Data`オブジェクトを取り出し、その概要を確認します。"
      ],
      "metadata": {
        "id": "Q3_K7_ol0eQ-"
      }
    },
    {
      "cell_type": "code",
      "source": [
        "G = dataset[0] # dataset.data\n",
        "print(G)"
      ],
      "metadata": {
        "colab": {
          "base_uri": "https://localhost:8080/"
        },
        "id": "lWyCUs9J1Ma5",
        "outputId": "a0c5619f-73d7-40ec-930e-efc8a3ce166d"
      },
      "execution_count": 18,
      "outputs": [
        {
          "output_type": "stream",
          "name": "stdout",
          "text": [
            "Data(x=[2708, 1433], edge_index=[2, 10556], y=[2708], train_mask=[2708], val_mask=[2708], test_mask=[2708])\n"
          ]
        }
      ]
    },
    {
      "cell_type": "markdown",
      "source": [
        "`networkx`の`Graph`オブジェクトと`torch_geometric`の`Data`オブジェクトの変換には、`to_network()`と`from_network()`が用意されています。\n",
        "\n",
        "ここでは、`Data`を`Graph`に変換し、次数の要約統計量を算出します。"
      ],
      "metadata": {
        "id": "BcQ2HYvQ0Ehx"
      }
    },
    {
      "cell_type": "code",
      "source": [
        "G = torch_geometric.utils.to_networkx(G, to_undirected=True)\n",
        "degrees = [val for (node, val) in G.degree()]\n",
        "display(pd.DataFrame(pd.Series(degrees).describe()).transpose().round(2))"
      ],
      "metadata": {
        "colab": {
          "base_uri": "https://localhost:8080/",
          "height": 81
        },
        "id": "U63iCaClC9gh",
        "outputId": "41c190b9-83b5-4c03-aad3-fcb4381c7006"
      },
      "execution_count": 19,
      "outputs": [
        {
          "output_type": "display_data",
          "data": {
            "text/plain": [
              "    count  mean   std  min  25%  50%  75%    max\n",
              "0  2708.0   3.9  5.23  1.0  2.0  3.0  5.0  168.0"
            ],
            "text/html": [
              "\n",
              "  <div id=\"df-7357ea71-9466-4fb9-a559-9350f1a9dc05\" class=\"colab-df-container\">\n",
              "    <div>\n",
              "<style scoped>\n",
              "    .dataframe tbody tr th:only-of-type {\n",
              "        vertical-align: middle;\n",
              "    }\n",
              "\n",
              "    .dataframe tbody tr th {\n",
              "        vertical-align: top;\n",
              "    }\n",
              "\n",
              "    .dataframe thead th {\n",
              "        text-align: right;\n",
              "    }\n",
              "</style>\n",
              "<table border=\"1\" class=\"dataframe\">\n",
              "  <thead>\n",
              "    <tr style=\"text-align: right;\">\n",
              "      <th></th>\n",
              "      <th>count</th>\n",
              "      <th>mean</th>\n",
              "      <th>std</th>\n",
              "      <th>min</th>\n",
              "      <th>25%</th>\n",
              "      <th>50%</th>\n",
              "      <th>75%</th>\n",
              "      <th>max</th>\n",
              "    </tr>\n",
              "  </thead>\n",
              "  <tbody>\n",
              "    <tr>\n",
              "      <th>0</th>\n",
              "      <td>2708.0</td>\n",
              "      <td>3.9</td>\n",
              "      <td>5.23</td>\n",
              "      <td>1.0</td>\n",
              "      <td>2.0</td>\n",
              "      <td>3.0</td>\n",
              "      <td>5.0</td>\n",
              "      <td>168.0</td>\n",
              "    </tr>\n",
              "  </tbody>\n",
              "</table>\n",
              "</div>\n",
              "    <div class=\"colab-df-buttons\">\n",
              "\n",
              "  <div class=\"colab-df-container\">\n",
              "    <button class=\"colab-df-convert\" onclick=\"convertToInteractive('df-7357ea71-9466-4fb9-a559-9350f1a9dc05')\"\n",
              "            title=\"Convert this dataframe to an interactive table.\"\n",
              "            style=\"display:none;\">\n",
              "\n",
              "  <svg xmlns=\"http://www.w3.org/2000/svg\" height=\"24px\" viewBox=\"0 -960 960 960\">\n",
              "    <path d=\"M120-120v-720h720v720H120Zm60-500h600v-160H180v160Zm220 220h160v-160H400v160Zm0 220h160v-160H400v160ZM180-400h160v-160H180v160Zm440 0h160v-160H620v160ZM180-180h160v-160H180v160Zm440 0h160v-160H620v160Z\"/>\n",
              "  </svg>\n",
              "    </button>\n",
              "\n",
              "  <style>\n",
              "    .colab-df-container {\n",
              "      display:flex;\n",
              "      gap: 12px;\n",
              "    }\n",
              "\n",
              "    .colab-df-convert {\n",
              "      background-color: #E8F0FE;\n",
              "      border: none;\n",
              "      border-radius: 50%;\n",
              "      cursor: pointer;\n",
              "      display: none;\n",
              "      fill: #1967D2;\n",
              "      height: 32px;\n",
              "      padding: 0 0 0 0;\n",
              "      width: 32px;\n",
              "    }\n",
              "\n",
              "    .colab-df-convert:hover {\n",
              "      background-color: #E2EBFA;\n",
              "      box-shadow: 0px 1px 2px rgba(60, 64, 67, 0.3), 0px 1px 3px 1px rgba(60, 64, 67, 0.15);\n",
              "      fill: #174EA6;\n",
              "    }\n",
              "\n",
              "    .colab-df-buttons div {\n",
              "      margin-bottom: 4px;\n",
              "    }\n",
              "\n",
              "    [theme=dark] .colab-df-convert {\n",
              "      background-color: #3B4455;\n",
              "      fill: #D2E3FC;\n",
              "    }\n",
              "\n",
              "    [theme=dark] .colab-df-convert:hover {\n",
              "      background-color: #434B5C;\n",
              "      box-shadow: 0px 1px 3px 1px rgba(0, 0, 0, 0.15);\n",
              "      filter: drop-shadow(0px 1px 2px rgba(0, 0, 0, 0.3));\n",
              "      fill: #FFFFFF;\n",
              "    }\n",
              "  </style>\n",
              "\n",
              "    <script>\n",
              "      const buttonEl =\n",
              "        document.querySelector('#df-7357ea71-9466-4fb9-a559-9350f1a9dc05 button.colab-df-convert');\n",
              "      buttonEl.style.display =\n",
              "        google.colab.kernel.accessAllowed ? 'block' : 'none';\n",
              "\n",
              "      async function convertToInteractive(key) {\n",
              "        const element = document.querySelector('#df-7357ea71-9466-4fb9-a559-9350f1a9dc05');\n",
              "        const dataTable =\n",
              "          await google.colab.kernel.invokeFunction('convertToInteractive',\n",
              "                                                    [key], {});\n",
              "        if (!dataTable) return;\n",
              "\n",
              "        const docLinkHtml = 'Like what you see? Visit the ' +\n",
              "          '<a target=\"_blank\" href=https://colab.research.google.com/notebooks/data_table.ipynb>data table notebook</a>'\n",
              "          + ' to learn more about interactive tables.';\n",
              "        element.innerHTML = '';\n",
              "        dataTable['output_type'] = 'display_data';\n",
              "        await google.colab.output.renderOutput(dataTable, element);\n",
              "        const docLink = document.createElement('div');\n",
              "        docLink.innerHTML = docLinkHtml;\n",
              "        element.appendChild(docLink);\n",
              "      }\n",
              "    </script>\n",
              "  </div>\n",
              "\n",
              "\n",
              "    </div>\n",
              "  </div>\n"
            ],
            "application/vnd.google.colaboratory.intrinsic+json": {
              "type": "dataframe",
              "summary": "{\n  \"name\": \"display(pd\",\n  \"rows\": 1,\n  \"fields\": [\n    {\n      \"column\": \"count\",\n      \"properties\": {\n        \"dtype\": \"number\",\n        \"std\": null,\n        \"min\": 2708.0,\n        \"max\": 2708.0,\n        \"num_unique_values\": 1,\n        \"samples\": [\n          2708.0\n        ],\n        \"semantic_type\": \"\",\n        \"description\": \"\"\n      }\n    },\n    {\n      \"column\": \"mean\",\n      \"properties\": {\n        \"dtype\": \"number\",\n        \"std\": null,\n        \"min\": 3.9,\n        \"max\": 3.9,\n        \"num_unique_values\": 1,\n        \"samples\": [\n          3.9\n        ],\n        \"semantic_type\": \"\",\n        \"description\": \"\"\n      }\n    },\n    {\n      \"column\": \"std\",\n      \"properties\": {\n        \"dtype\": \"number\",\n        \"std\": null,\n        \"min\": 5.23,\n        \"max\": 5.23,\n        \"num_unique_values\": 1,\n        \"samples\": [\n          5.23\n        ],\n        \"semantic_type\": \"\",\n        \"description\": \"\"\n      }\n    },\n    {\n      \"column\": \"min\",\n      \"properties\": {\n        \"dtype\": \"number\",\n        \"std\": null,\n        \"min\": 1.0,\n        \"max\": 1.0,\n        \"num_unique_values\": 1,\n        \"samples\": [\n          1.0\n        ],\n        \"semantic_type\": \"\",\n        \"description\": \"\"\n      }\n    },\n    {\n      \"column\": \"25%\",\n      \"properties\": {\n        \"dtype\": \"number\",\n        \"std\": null,\n        \"min\": 2.0,\n        \"max\": 2.0,\n        \"num_unique_values\": 1,\n        \"samples\": [\n          2.0\n        ],\n        \"semantic_type\": \"\",\n        \"description\": \"\"\n      }\n    },\n    {\n      \"column\": \"50%\",\n      \"properties\": {\n        \"dtype\": \"number\",\n        \"std\": null,\n        \"min\": 3.0,\n        \"max\": 3.0,\n        \"num_unique_values\": 1,\n        \"samples\": [\n          3.0\n        ],\n        \"semantic_type\": \"\",\n        \"description\": \"\"\n      }\n    },\n    {\n      \"column\": \"75%\",\n      \"properties\": {\n        \"dtype\": \"number\",\n        \"std\": null,\n        \"min\": 5.0,\n        \"max\": 5.0,\n        \"num_unique_values\": 1,\n        \"samples\": [\n          5.0\n        ],\n        \"semantic_type\": \"\",\n        \"description\": \"\"\n      }\n    },\n    {\n      \"column\": \"max\",\n      \"properties\": {\n        \"dtype\": \"number\",\n        \"std\": null,\n        \"min\": 168.0,\n        \"max\": 168.0,\n        \"num_unique_values\": 1,\n        \"samples\": [\n          168.0\n        ],\n        \"semantic_type\": \"\",\n        \"description\": \"\"\n      }\n    }\n  ]\n}"
            }
          },
          "metadata": {}
        }
      ]
    }
  ]
}