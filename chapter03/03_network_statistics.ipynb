{
  "cells": [
    {
      "cell_type": "markdown",
      "source": [
        "# 第3章 ネットワークの性質を知る"
      ],
      "metadata": {
        "id": "Skz8dEMpI861"
      }
    },
    {
      "cell_type": "markdown",
      "metadata": {
        "id": "FW2UXT1xUtCS"
      },
      "source": [
        "## 分析の準備"
      ]
    },
    {
      "cell_type": "markdown",
      "source": [
        "### 必要なライブラリのインストール"
      ],
      "metadata": {
        "id": "XaJDaVZ9YfAj"
      }
    },
    {
      "cell_type": "code",
      "execution_count": 1,
      "metadata": {
        "colab": {
          "base_uri": "https://localhost:8080/"
        },
        "id": "HnRSAVe3MJ3L",
        "outputId": "6b22bcb7-e600-4e47-9ae2-d7f00c615c85"
      },
      "outputs": [
        {
          "output_type": "stream",
          "name": "stdout",
          "text": [
            "Requirement already satisfied: networkx in /usr/local/lib/python3.11/dist-packages (3.4.2)\n",
            "Requirement already satisfied: torch_geometric in /usr/local/lib/python3.11/dist-packages (2.6.1)\n",
            "Requirement already satisfied: aiohttp in /usr/local/lib/python3.11/dist-packages (from torch_geometric) (3.11.12)\n",
            "Requirement already satisfied: fsspec in /usr/local/lib/python3.11/dist-packages (from torch_geometric) (2024.10.0)\n",
            "Requirement already satisfied: jinja2 in /usr/local/lib/python3.11/dist-packages (from torch_geometric) (3.1.5)\n",
            "Requirement already satisfied: numpy in /usr/local/lib/python3.11/dist-packages (from torch_geometric) (1.26.4)\n",
            "Requirement already satisfied: psutil>=5.8.0 in /usr/local/lib/python3.11/dist-packages (from torch_geometric) (5.9.5)\n",
            "Requirement already satisfied: pyparsing in /usr/local/lib/python3.11/dist-packages (from torch_geometric) (3.2.1)\n",
            "Requirement already satisfied: requests in /usr/local/lib/python3.11/dist-packages (from torch_geometric) (2.32.3)\n",
            "Requirement already satisfied: tqdm in /usr/local/lib/python3.11/dist-packages (from torch_geometric) (4.67.1)\n",
            "Requirement already satisfied: aiohappyeyeballs>=2.3.0 in /usr/local/lib/python3.11/dist-packages (from aiohttp->torch_geometric) (2.4.4)\n",
            "Requirement already satisfied: aiosignal>=1.1.2 in /usr/local/lib/python3.11/dist-packages (from aiohttp->torch_geometric) (1.3.2)\n",
            "Requirement already satisfied: attrs>=17.3.0 in /usr/local/lib/python3.11/dist-packages (from aiohttp->torch_geometric) (25.1.0)\n",
            "Requirement already satisfied: frozenlist>=1.1.1 in /usr/local/lib/python3.11/dist-packages (from aiohttp->torch_geometric) (1.5.0)\n",
            "Requirement already satisfied: multidict<7.0,>=4.5 in /usr/local/lib/python3.11/dist-packages (from aiohttp->torch_geometric) (6.1.0)\n",
            "Requirement already satisfied: propcache>=0.2.0 in /usr/local/lib/python3.11/dist-packages (from aiohttp->torch_geometric) (0.2.1)\n",
            "Requirement already satisfied: yarl<2.0,>=1.17.0 in /usr/local/lib/python3.11/dist-packages (from aiohttp->torch_geometric) (1.18.3)\n",
            "Requirement already satisfied: MarkupSafe>=2.0 in /usr/local/lib/python3.11/dist-packages (from jinja2->torch_geometric) (3.0.2)\n",
            "Requirement already satisfied: charset-normalizer<4,>=2 in /usr/local/lib/python3.11/dist-packages (from requests->torch_geometric) (3.4.1)\n",
            "Requirement already satisfied: idna<4,>=2.5 in /usr/local/lib/python3.11/dist-packages (from requests->torch_geometric) (3.10)\n",
            "Requirement already satisfied: urllib3<3,>=1.21.1 in /usr/local/lib/python3.11/dist-packages (from requests->torch_geometric) (2.3.0)\n",
            "Requirement already satisfied: certifi>=2017.4.17 in /usr/local/lib/python3.11/dist-packages (from requests->torch_geometric) (2025.1.31)\n"
          ]
        }
      ],
      "source": [
        "!pip install networkx\n",
        "!pip install torch_geometric"
      ]
    },
    {
      "cell_type": "code",
      "execution_count": 2,
      "metadata": {
        "id": "M9oct7scqcq8"
      },
      "outputs": [],
      "source": [
        "import matplotlib.pyplot as plt\n",
        "import networkx as nx\n",
        "import numpy as np\n",
        "import pandas as pd\n",
        "from torch_geometric.datasets import Planetoid\n",
        "from torch_geometric.loader import DataLoader\n",
        "from torch_geometric.utils.convert import from_networkx, to_networkx"
      ]
    },
    {
      "cell_type": "markdown",
      "source": [
        "### データセットの読み込み\n",
        "ここでは、`torch_geometric`のPlanetoidデータセットのうちPubMedを使用し、`networkx`形式に変換して解析を行います"
      ],
      "metadata": {
        "id": "IOZWUoiUYi0d"
      }
    },
    {
      "cell_type": "code",
      "execution_count": 3,
      "metadata": {
        "id": "7wm1OEbQrw_C",
        "colab": {
          "base_uri": "https://localhost:8080/"
        },
        "outputId": "ba066be2-444b-4033-daea-9fec5a8e94a5"
      },
      "outputs": [
        {
          "output_type": "stream",
          "name": "stderr",
          "text": [
            "/usr/local/lib/python3.11/dist-packages/torch_geometric/data/in_memory_dataset.py:300: UserWarning: It is not recommended to directly access the internal storage format `data` of an 'InMemoryDataset'. If you are absolutely certain what you are doing, access the internal storage via `InMemoryDataset._data` instead to suppress this warning. Alternatively, you can access stacked individual attributes of every graph via `dataset.{attr_name}`.\n",
            "  warnings.warn(msg)\n"
          ]
        }
      ],
      "source": [
        "# データセットの読み込み\n",
        "dataset = Planetoid(root=\".\", name=\"PubMed\")\n",
        "G = to_networkx(dataset.data, to_undirected=True)"
      ]
    },
    {
      "cell_type": "markdown",
      "source": [
        "### ネットワークの可視化\n",
        "ネットワークの全体像を把握するために描画を行います。大きなネットワークであるため、描画に時間がかかることに注意が必要です。"
      ],
      "metadata": {
        "id": "K89vaaEfYvuY"
      }
    },
    {
      "cell_type": "code",
      "execution_count": 4,
      "metadata": {
        "id": "4tY6rawAfB4M"
      },
      "outputs": [],
      "source": [
        "# ネットワークの描画。時間がかかる\n",
        "# nx.draw(G, node_size=2, width=.1)"
      ]
    },
    {
      "cell_type": "markdown",
      "metadata": {
        "id": "Utvg6K8VUokJ"
      },
      "source": [
        "## ネットワーク全体の概形をみる\n",
        "ノード数（ネットワークの大きさ）、エッジ数、密度などを算出することで、ネットワークの基本的な特徴を確認します。"
      ]
    },
    {
      "cell_type": "code",
      "execution_count": 5,
      "metadata": {
        "colab": {
          "base_uri": "https://localhost:8080/"
        },
        "id": "ZU9CxhV-UyQy",
        "outputId": "3d897520-75fa-4b1a-9d93-6736274e3e83"
      },
      "outputs": [
        {
          "output_type": "stream",
          "name": "stdout",
          "text": [
            "ノードの数（ネットワークの大きさ）:  19717\n",
            "エッジの数:  44324\n",
            "ネットワークの密度:  0.00022803908825811382\n",
            "ネットワークの密度:  0.00022803908825811382\n"
          ]
        }
      ],
      "source": [
        "# |V|\n",
        "# len(G)でも同じ結果が得られる\n",
        "print(\"ノードの数（ネットワークの大きさ）: \", G.number_of_nodes())\n",
        "\n",
        "# |E|\n",
        "print(\"エッジの数: \", G.number_of_edges())\n",
        "\n",
        "# 密度\n",
        "print(\"ネットワークの密度: \", nx.density(G))\n",
        "# 愚直に計算する場合\n",
        "print(\n",
        "    \"ネットワークの密度: \",\n",
        "    G.number_of_edges() * 2 / (G.number_of_nodes() * (G.number_of_nodes() - 1)),\n",
        ")\n",
        "\n",
        "# 直径\n",
        "# 全てのノード間で最短経路を算出するため時間がかかる\n",
        "# print(\"ネットワークの直径: \", nx.diameter(G))"
      ]
    },
    {
      "cell_type": "markdown",
      "source": [
        "また、連結したネットワークを抽出したい場合は以下のような操作が有用です。"
      ],
      "metadata": {
        "id": "VdjjekmBahuB"
      }
    },
    {
      "cell_type": "code",
      "execution_count": 6,
      "metadata": {
        "colab": {
          "base_uri": "https://localhost:8080/"
        },
        "id": "5YRWhx41U8_h",
        "outputId": "43e2e177-b3d8-47ef-f28e-140380de9ba9"
      },
      "outputs": [
        {
          "output_type": "stream",
          "name": "stdout",
          "text": [
            "連結しているか:  True\n",
            "連結成分の数:  1\n",
            "最大連結成分の大きさ:  19717\n"
          ]
        }
      ],
      "source": [
        "# 連結しているかどうかかどうかの判別\n",
        "print(\"連結しているか: \", nx.is_connected(G))\n",
        "\n",
        "# 連結成分の数の算出\n",
        "print(\"連結成分の数: \", nx.number_connected_components(G))\n",
        "\n",
        "# 各連結成分を構成するノード集合\n",
        "components = nx.connected_components(G)\n",
        "# 最大連結成分のノード集合を取得\n",
        "nodes_largest_component = max(components, key=len)\n",
        "# 最大連結成分を部分グラフとして取得\n",
        "subg = G.subgraph(nodes_largest_component).copy()\n",
        "\n",
        "print(\"最大連結成分の大きさ: \", len(subg))"
      ]
    },
    {
      "cell_type": "markdown",
      "metadata": {
        "id": "1tngokYOxCwc"
      },
      "source": [
        "## どのようなノードか\n",
        "\n",
        "### 中心性指標\n",
        "最も基本的な中心性指標である次数中心性を算出し、扱い易い形式へと変換する操作を紹介します。"
      ]
    },
    {
      "cell_type": "code",
      "execution_count": 7,
      "metadata": {
        "colab": {
          "base_uri": "https://localhost:8080/"
        },
        "id": "0rryh3rJzphT",
        "outputId": "5409b4d7-d367-4771-f0f6-f2456aeca8dd"
      },
      "outputs": [
        {
          "output_type": "stream",
          "name": "stdout",
          "text": [
            "   node_id  degree\n",
            "0        0       5\n",
            "1        1       3\n",
            "2        2       3\n",
            "3        3       1\n",
            "4        4       1\n"
          ]
        }
      ],
      "source": [
        "# 次数中心性\n",
        "degree_c = G.degree()\n",
        "# print(degree_c)\n",
        "\n",
        "# 辞書形式への変換\n",
        "dict_degree = dict(degree_c)\n",
        "# print(dict_degree)\n",
        "\n",
        "# リスト形式への変換\n",
        "li_degree = list(dict_degree.values())\n",
        "# print(li_degree)\n",
        "\n",
        "# DataFrameオブジェクトの形に整理\n",
        "df_degree = pd.DataFrame(list(degree_c), columns=[\"node_id\", \"degree\"])\n",
        "\n",
        "print(df_degree.head())"
      ]
    },
    {
      "cell_type": "markdown",
      "metadata": {
        "id": "hIXCkJ-20AIL"
      },
      "source": [
        "その他の基本的な中心性についても算出します。"
      ]
    },
    {
      "cell_type": "code",
      "execution_count": 8,
      "metadata": {
        "colab": {
          "base_uri": "https://localhost:8080/"
        },
        "id": "Xsn3jJWQz_M9",
        "outputId": "1be70697-c92c-47f0-9636-e36878c833c5"
      },
      "outputs": [
        {
          "output_type": "stream",
          "name": "stdout",
          "text": [
            "[(0, 0.00023434854228360225), (1, 1.961610489750726e-06), (2, 2.4244205161309935e-05), (3, 0.00024243768339282228), (4, 3.744676658921824e-07), (5, 0.00023448359061203593), (6, 0.02154640900674408), (7, 0.00013234787968180467), (8, 3.291732420569048e-05), (9, 3.6524288458446106e-05)]\n"
          ]
        }
      ],
      "source": [
        "# 固有ベクトル中心性\n",
        "eigen_c = nx.eigenvector_centrality(G)\n",
        "# 先頭10ノードについて、求めた固有ベクトル中心性を表示\n",
        "print(list(eigen_c.items())[0:10])\n",
        "\n",
        "# 近接中心性\n",
        "# 計算に時間がかかるためコメントアウトしている\n",
        "# closeness_c = nx.closeness_centrality(G)\n",
        "\n",
        "# 媒介中心性\n",
        "# 計算に時間がかかるためコメントアウトしている\n",
        "# betweenness_c = nx.betweenness_centrality(G)\n",
        "\n",
        "# ページランク\n",
        "pagerank_c = nx.pagerank(G, alpha=0.85)\n",
        "\n",
        "# 局所クラスター係数\n",
        "local_clustering = nx.clustering(G)"
      ]
    },
    {
      "cell_type": "markdown",
      "source": [
        "複数の中心性について、相関係数行列と要約統計量を求めます。"
      ],
      "metadata": {
        "id": "f7Fgz6NBbCey"
      }
    },
    {
      "cell_type": "code",
      "execution_count": 9,
      "metadata": {
        "id": "Ua-hDUcYLe8r",
        "colab": {
          "base_uri": "https://localhost:8080/"
        },
        "outputId": "4cf4364e-3b2f-4a2b-d31c-a0c06816ac59"
      },
      "outputs": [
        {
          "output_type": "stream",
          "name": "stdout",
          "text": [
            "中心性の相関係数行列: \n",
            "                   degree  eigen  pagerank  local_clustering\n",
            "degree              1.00   0.51      0.93              0.04\n",
            "eigen               0.51   1.00      0.27              0.04\n",
            "pagerank            0.93   0.27      1.00              0.00\n",
            "local_clustering    0.04   0.04      0.00              1.00\n",
            "中心性の要約統計量: \n",
            "           degree      eigen   pagerank  local_clustering\n",
            "count  19717.000  19717.000  19717.000         19717.000\n",
            "mean       4.496      0.001      0.000             0.060\n",
            "std        7.431      0.007      0.000             0.182\n",
            "min        1.000      0.000      0.000             0.000\n",
            "25%        1.000      0.000      0.000             0.000\n",
            "50%        2.000      0.000      0.000             0.000\n",
            "75%        4.000      0.000      0.000             0.000\n",
            "max      171.000      0.172      0.002             1.000\n"
          ]
        }
      ],
      "source": [
        "# 中心性の相関係数と、統計量\n",
        "df_centrality = pd.DataFrame(\n",
        "    {\n",
        "        \"degree\": li_degree,\n",
        "        \"eigen\": dict(eigen_c).values(),\n",
        "        \"pagerank\": dict(pagerank_c).values(),\n",
        "# 上のセルで算出していないためコメントアウト\n",
        "#         \"closeness\": dict(closeness_c).values(),\n",
        "#         \"betweenness\": dict(betweenness_c).values(),\n",
        "        \"local_clustering\": dict(local_clustering).values(),\n",
        "    }\n",
        ")\n",
        "print(\"中心性の相関係数行列: \\n\", df_centrality.corr().round(2))\n",
        "print(\"中心性の要約統計量: \\n\", df_centrality.describe().round(3))"
      ]
    },
    {
      "cell_type": "markdown",
      "metadata": {
        "id": "3jpDXEfZ6B3N"
      },
      "source": [
        "### 中心性指標の分布"
      ]
    },
    {
      "cell_type": "markdown",
      "source": [
        "算出した中心性について、その分布を見ることで、ネットワークについての理解をより深めることができます。"
      ],
      "metadata": {
        "id": "z6G_-lCebfEt"
      }
    },
    {
      "cell_type": "code",
      "execution_count": 10,
      "metadata": {
        "id": "27IGc3w88cHa",
        "colab": {
          "base_uri": "https://localhost:8080/",
          "height": 449
        },
        "outputId": "142ff06d-59dd-4e47-c27a-795522a47497"
      },
      "outputs": [
        {
          "output_type": "display_data",
          "data": {
            "text/plain": [
              "<Figure size 640x480 with 1 Axes>"
            ],
            "image/png": "[encoded data removed]"
          },
          "metadata": {}
        }
      ],
      "source": [
        "# 棒グラフ\n",
        "degree_sequence = sorted((d for n, d in G.degree()), reverse=True)\n",
        "plt.bar(*np.unique(degree_sequence, return_counts=True))\n",
        "plt.xlabel(\"degree\")\n",
        "plt.ylabel(\"counts\")\n",
        "plt.show()"
      ]
    },
    {
      "cell_type": "markdown",
      "source": [
        "大きい次数をもつノードについての情報が潰れてしまう場合には、両対数をとると分かりやすくなります。"
      ],
      "metadata": {
        "id": "QFo-B-U4bqa1"
      }
    },
    {
      "cell_type": "code",
      "execution_count": 11,
      "metadata": {
        "id": "oydGI0Dk7BbY",
        "colab": {
          "base_uri": "https://localhost:8080/",
          "height": 454
        },
        "outputId": "f34606ff-2080-4a2c-d2b2-f1b16c6c868d"
      },
      "outputs": [
        {
          "output_type": "display_data",
          "data": {
            "text/plain": [
              "<Figure size 640x480 with 1 Axes>"
            ],
            "image/png": "[encoded data removed]"
          },
          "metadata": {}
        }
      ],
      "source": [
        "# 両対数グラフ\n",
        "degree_sequence = sorted((d for n, d in G.degree()), reverse=True)\n",
        "plt.scatter(*np.unique(degree_sequence, return_counts=True))\n",
        "plt.xlabel(\"degree\")\n",
        "plt.ylabel(\"counts\")\n",
        "\n",
        "plt.xscale(\"log\")\n",
        "plt.yscale(\"log\")"
      ]
    },
    {
      "cell_type": "markdown",
      "metadata": {
        "id": "mNcL99nU4-nc"
      },
      "source": [
        "## 2つのノードの関係\n",
        "\n",
        "最短経路とその長さを探索するアルゴリズムとしては、ダイクストラ法が有名です"
      ]
    },
    {
      "cell_type": "code",
      "execution_count": 12,
      "metadata": {
        "id": "tHsM3tDeYID6",
        "colab": {
          "base_uri": "https://localhost:8080/"
        },
        "outputId": "9d31c6f9-e77f-4e1f-ba1e-bf95e89b419a"
      },
      "outputs": [
        {
          "output_type": "stream",
          "name": "stdout",
          "text": [
            "ノード0からノード1への最短経路:  [0, 1544, 2110, 7780, 5966, 2943, 1]\n",
            "ノード0からノード1への全最短経路:  [[0, 1544, 2110, 7780, 5966, 2943, 1], [0, 6092, 7191, 15864, 13705, 8359, 1], [0, 6092, 16772, 11449, 10051, 8359, 1], [0, 14442, 8372, 6039, 10487, 8359, 1]]\n"
          ]
        }
      ],
      "source": [
        "# 最短経路\n",
        "print(\"ノード0からノード1への最短経路: \", nx.shortest_path(G, source=0, target=1, method=\"dijkstra\"))\n",
        "\n",
        "# 全ての最短経路\n",
        "print(\"ノード0からノード1への全最短経路: \", [path for path in nx.all_shortest_paths(G, source=0, target=1)])"
      ]
    },
    {
      "cell_type": "markdown",
      "metadata": {
        "id": "gPrvF_XCv9Vo"
      },
      "source": [
        "## ネットワークの全体の特徴量"
      ]
    },
    {
      "cell_type": "code",
      "execution_count": 13,
      "metadata": {
        "id": "IYWDc_-45O5w",
        "colab": {
          "base_uri": "https://localhost:8080/"
        },
        "outputId": "6090bed0-c4e6-4860-ecf2-80f4933d7aed"
      },
      "outputs": [
        {
          "output_type": "stream",
          "name": "stdout",
          "text": [
            "局所クラスタ係数の平均値:  0.060175209437523615\n",
            "大域的クラスタ係数:  0.0537076280274887\n"
          ]
        }
      ],
      "source": [
        "# 局所クラスタ係数平均\n",
        "print(\"局所クラスタ係数の平均値: \", np.mean(list(local_clustering.values())))\n",
        "\n",
        "# 大域的クラスタ係数\n",
        "print(\"大域的クラスタ係数: \", nx.transitivity(G))"
      ]
    },
    {
      "cell_type": "code",
      "execution_count": 14,
      "metadata": {
        "id": "s6MYfwW1TXsK",
        "colab": {
          "base_uri": "https://localhost:8080/"
        },
        "outputId": "5da2de7f-768f-4f3e-8cc2-9b547ce1cb7a"
      },
      "outputs": [
        {
          "output_type": "stream",
          "name": "stdout",
          "text": [
            "次数相関:  -0.04364031570334542\n"
          ]
        }
      ],
      "source": [
        "# 次数相関\n",
        "print(\"次数相関: \", nx.degree_pearson_correlation_coefficient(G))"
      ]
    }
  ],
  "metadata": {
    "colab": {
      "provenance": []
    },
    "kernelspec": {
      "display_name": "Python 3",
      "name": "python3"
    },
    "language_info": {
      "name": "python"
    }
  },
  "nbformat": 4,
  "nbformat_minor": 0
}