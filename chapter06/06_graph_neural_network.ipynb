{
 "cells": [
  {
   "cell_type": "markdown",
   "metadata": {},
   "source": [
    "## 6.7 GNNの実装"
   ]
  },
  {
   "cell_type": "code",
   "execution_count": 1,
   "metadata": {},
   "outputs": [],
   "source": [
    "# 依存ライブラリのインストール\n",
    "# !pip install torch==2.0.0+cpu --index-url \\\n",
    "# https://download.pytorch.org/whl/cpu\n",
    "# !pip install torch-cluster torch-scatter torch-sparse \\\n",
    "# -f https://data.pyg.org/whl/torch-2.0.0+cpu.html"
   ]
  },
  {
   "cell_type": "code",
   "execution_count": 2,
   "metadata": {},
   "outputs": [],
   "source": [
    "# 必要なライブラリのインストール\n",
    "# !pip install torch-geometric==2.3.1 numpy==1.26.4 tqdm"
   ]
  },
  {
   "cell_type": "code",
   "execution_count": 3,
   "metadata": {},
   "outputs": [
    {
     "name": "stderr",
     "output_type": "stream",
     "text": [
      "Downloading https://github.com/kimiyoung/planetoid/raw/master/data/ind.cora.x\n",
      "Downloading https://github.com/kimiyoung/planetoid/raw/master/data/ind.cora.tx\n",
      "Downloading https://github.com/kimiyoung/planetoid/raw/master/data/ind.cora.allx\n",
      "Downloading https://github.com/kimiyoung/planetoid/raw/master/data/ind.cora.y\n",
      "Downloading https://github.com/kimiyoung/planetoid/raw/master/data/ind.cora.ty\n",
      "Downloading https://github.com/kimiyoung/planetoid/raw/master/data/ind.cora.ally\n",
      "Downloading https://github.com/kimiyoung/planetoid/raw/master/data/ind.cora.graph\n",
      "Downloading https://github.com/kimiyoung/planetoid/raw/master/data/ind.cora.test.index\n",
      "Processing...\n",
      "Done!\n"
     ]
    }
   ],
   "source": [
    "# 必要なライブラリのインポート\n",
    "from torch_geometric.datasets import Planetoid\n",
    "\n",
    "# torch_geometric の Dataset としてダウンロード\n",
    "dataset = Planetoid(root=\"./dataset\", name=\"Cora\", split=\"full\")"
   ]
  },
  {
   "cell_type": "code",
   "execution_count": 4,
   "metadata": {},
   "outputs": [
    {
     "name": "stdout",
     "output_type": "stream",
     "text": [
      "['y', 'val_mask', 'test_mask', 'x', 'train_mask']\n",
      "tensor([False,  True,  True,  ...,  True,  True,  True])\n",
      "tensor([ True, False, False,  ..., False, False, False])\n"
     ]
    }
   ],
   "source": [
    "from torch_geometric.transforms import RandomNodeSplit\n",
    "\n",
    "# ノードを学習データとテストデータに分割\n",
    "node_splitter = RandomNodeSplit(\n",
    "    split=\"train_rest\",\n",
    "    num_splits=1,\n",
    "    num_val=0.0,\n",
    "    num_test=0.4,\n",
    "    key=\"y\",\n",
    ")\n",
    "splitted_data = node_splitter(dataset._data)\n",
    "print(splitted_data.node_attrs())\n",
    "print(splitted_data.train_mask)\n",
    "print(splitted_data.test_mask)"
   ]
  },
  {
   "cell_type": "markdown",
   "metadata": {},
   "source": [
    "### 6.7.1 GNNによる論文の技術領域の分類"
   ]
  },
  {
   "cell_type": "code",
   "execution_count": 5,
   "metadata": {},
   "outputs": [],
   "source": [
    "import torch\n",
    "import torch.nn.functional as F\n",
    "from torch_geometric.data import Data\n",
    "from torch_geometric.nn import GCNConv\n",
    "\n",
    "# GCN モデルの定義\n",
    "class GCN(torch.nn.Module):\n",
    "    def __init__(\n",
    "        self,\n",
    "        num_node_features: int,\n",
    "        projection_dim: int,\n",
    "        num_classes: int,\n",
    "    ) -> None:\n",
    "        super().__init__()\n",
    "        self.conv1 = GCNConv(num_node_features, projection_dim)\n",
    "        self.conv2 = GCNConv(projection_dim, num_classes)\n",
    "\n",
    "    def forward(self, data: Data) -> torch.Tensor:\n",
    "        x, edge_index = data.x, data.edge_index\n",
    "        x = self.conv1(x, edge_index)\n",
    "        x = F.relu(x)\n",
    "        x = F.dropout(x, training=self.training)\n",
    "        x = self.conv2(x, edge_index)\n",
    "        return F.log_softmax(x, dim=1)"
   ]
  },
  {
   "cell_type": "code",
   "execution_count": 6,
   "metadata": {},
   "outputs": [],
   "source": [
    "# GCN モデルのインスタンス化\n",
    "device = \"cuda\" if torch.cuda.is_available() else \"cpu\"\n",
    "gcn_model = GCN(\n",
    "    num_node_features=dataset.num_node_features,\n",
    "    projection_dim=64,\n",
    "    num_classes=dataset.num_classes,\n",
    ").to(device)\n",
    "\n",
    "# 最適化アルゴリズムの選択\n",
    "gcn_optimizer = torch.optim.Adam(\n",
    "    list(gcn_model.parameters()), lr=0.01\n",
    ")"
   ]
  },
  {
   "cell_type": "code",
   "execution_count": 8,
   "metadata": {},
   "outputs": [
    {
     "name": "stderr",
     "output_type": "stream",
     "text": [
      " 12%|█▏        | 23/200 [00:00<00:01, 110.15it/s]"
     ]
    },
    {
     "name": "stdout",
     "output_type": "stream",
     "text": [
      "train loss : 0.0186\n",
      "train loss : 0.0168\n",
      "train loss : 0.0168\n",
      "train loss : 0.0159\n",
      "train loss : 0.0172\n",
      "train loss : 0.0166\n",
      "train loss : 0.0168\n",
      "train loss : 0.0182\n",
      "train loss : 0.0178\n",
      "train loss : 0.0161\n",
      "train loss : 0.0159\n",
      "train loss : 0.0155\n",
      "train loss : 0.0148\n",
      "train loss : 0.0177\n",
      "train loss : 0.0150\n",
      "train loss : 0.0156\n",
      "train loss : 0.0155\n",
      "train loss : 0.0133\n",
      "train loss : 0.0137\n",
      "train loss : 0.0146\n",
      "train loss : 0.0148\n",
      "train loss : 0.0172\n",
      "train loss : 0.0163\n"
     ]
    },
    {
     "name": "stderr",
     "output_type": "stream",
     "text": [
      " 18%|█▊        | 35/200 [00:00<00:01, 111.53it/s]"
     ]
    },
    {
     "name": "stdout",
     "output_type": "stream",
     "text": [
      "train loss : 0.0126\n",
      "train loss : 0.0125\n",
      "train loss : 0.0129\n",
      "train loss : 0.0146\n",
      "train loss : 0.0162\n",
      "train loss : 0.0144\n",
      "train loss : 0.0132\n",
      "train loss : 0.0149\n",
      "train loss : 0.0154\n",
      "train loss : 0.0148\n",
      "train loss : 0.0115\n",
      "train loss : 0.0135\n",
      "train loss : 0.0148\n",
      "train loss : 0.0146\n",
      "train loss : 0.0155\n",
      "train loss : 0.0162\n",
      "train loss : 0.0123\n",
      "train loss : 0.0141\n",
      "train loss : 0.0137\n",
      "train loss : 0.0132\n",
      "train loss : 0.0113\n",
      "train loss : 0.0150\n",
      "train loss : 0.0108\n"
     ]
    },
    {
     "name": "stderr",
     "output_type": "stream",
     "text": [
      " 30%|██▉       | 59/200 [00:00<00:01, 112.70it/s]"
     ]
    },
    {
     "name": "stdout",
     "output_type": "stream",
     "text": [
      "train loss : 0.0140\n",
      "train loss : 0.0122\n",
      "train loss : 0.0103\n",
      "train loss : 0.0140\n",
      "train loss : 0.0151\n",
      "train loss : 0.0104\n",
      "train loss : 0.0121\n",
      "train loss : 0.0119\n",
      "train loss : 0.0127\n",
      "train loss : 0.0111\n",
      "train loss : 0.0123\n",
      "train loss : 0.0115\n",
      "train loss : 0.0106\n",
      "train loss : 0.0133\n",
      "train loss : 0.0120\n",
      "train loss : 0.0114\n",
      "train loss : 0.0136\n",
      "train loss : 0.0127\n",
      "train loss : 0.0118\n",
      "train loss : 0.0166\n",
      "train loss : 0.0139\n",
      "train loss : 0.0097\n",
      "train loss : 0.0098\n"
     ]
    },
    {
     "name": "stderr",
     "output_type": "stream",
     "text": [
      " 42%|████▏     | 83/200 [00:00<00:01, 111.72it/s]"
     ]
    },
    {
     "name": "stdout",
     "output_type": "stream",
     "text": [
      "train loss : 0.0095\n",
      "train loss : 0.0125\n",
      "train loss : 0.0119\n",
      "train loss : 0.0105\n",
      "train loss : 0.0124\n",
      "train loss : 0.0133\n",
      "train loss : 0.0120\n",
      "train loss : 0.0090\n",
      "train loss : 0.0107\n",
      "train loss : 0.0116\n",
      "train loss : 0.0108\n",
      "train loss : 0.0101\n",
      "train loss : 0.0109\n",
      "train loss : 0.0106\n",
      "train loss : 0.0107\n",
      "train loss : 0.0093\n",
      "train loss : 0.0133\n",
      "train loss : 0.0113\n",
      "train loss : 0.0119\n",
      "train loss : 0.0106\n",
      "train loss : 0.0100\n",
      "train loss : 0.0113\n"
     ]
    },
    {
     "name": "stderr",
     "output_type": "stream",
     "text": [
      " 54%|█████▎    | 107/200 [00:00<00:00, 111.66it/s]"
     ]
    },
    {
     "name": "stdout",
     "output_type": "stream",
     "text": [
      "train loss : 0.0108\n",
      "train loss : 0.0110\n",
      "train loss : 0.0085\n",
      "train loss : 0.0101\n",
      "train loss : 0.0098\n",
      "train loss : 0.0112\n",
      "train loss : 0.0083\n",
      "train loss : 0.0081\n",
      "train loss : 0.0099\n",
      "train loss : 0.0115\n",
      "train loss : 0.0111\n",
      "train loss : 0.0106\n",
      "train loss : 0.0099\n",
      "train loss : 0.0092\n",
      "train loss : 0.0106\n",
      "train loss : 0.0110\n",
      "train loss : 0.0097\n",
      "train loss : 0.0120\n",
      "train loss : 0.0108\n",
      "train loss : 0.0089\n",
      "train loss : 0.0102\n",
      "train loss : 0.0101\n",
      "train loss : 0.0092\n"
     ]
    },
    {
     "name": "stderr",
     "output_type": "stream",
     "text": [
      " 66%|██████▌   | 131/200 [00:01<00:00, 109.08it/s]"
     ]
    },
    {
     "name": "stdout",
     "output_type": "stream",
     "text": [
      "train loss : 0.0096\n",
      "train loss : 0.0089\n",
      "train loss : 0.0115\n",
      "train loss : 0.0098\n",
      "train loss : 0.0096\n",
      "train loss : 0.0083\n",
      "train loss : 0.0098\n",
      "train loss : 0.0079\n",
      "train loss : 0.0103\n",
      "train loss : 0.0087\n",
      "train loss : 0.0110\n",
      "train loss : 0.0111\n",
      "train loss : 0.0092\n",
      "train loss : 0.0110\n",
      "train loss : 0.0092\n",
      "train loss : 0.0080\n",
      "train loss : 0.0091\n",
      "train loss : 0.0109\n",
      "train loss : 0.0101\n",
      "train loss : 0.0098\n",
      "train loss : 0.0088\n",
      "train loss : 0.0085\n"
     ]
    },
    {
     "name": "stderr",
     "output_type": "stream",
     "text": [
      " 76%|███████▋  | 153/200 [00:01<00:00, 108.71it/s]"
     ]
    },
    {
     "name": "stdout",
     "output_type": "stream",
     "text": [
      "train loss : 0.0068\n",
      "train loss : 0.0078\n",
      "train loss : 0.0089\n",
      "train loss : 0.0093\n",
      "train loss : 0.0078\n",
      "train loss : 0.0090\n",
      "train loss : 0.0130\n",
      "train loss : 0.0100\n",
      "train loss : 0.0089\n",
      "train loss : 0.0085\n",
      "train loss : 0.0082\n",
      "train loss : 0.0075\n",
      "train loss : 0.0098\n",
      "train loss : 0.0086\n",
      "train loss : 0.0085\n",
      "train loss : 0.0085\n",
      "train loss : 0.0094\n",
      "train loss : 0.0079\n",
      "train loss : 0.0085\n",
      "train loss : 0.0079\n",
      "train loss : 0.0090\n",
      "train loss : 0.0080\n",
      "train loss : 0.0078\n"
     ]
    },
    {
     "name": "stderr",
     "output_type": "stream",
     "text": [
      " 88%|████████▊ | 175/200 [00:01<00:00, 107.01it/s]"
     ]
    },
    {
     "name": "stdout",
     "output_type": "stream",
     "text": [
      "train loss : 0.0089\n",
      "train loss : 0.0083\n",
      "train loss : 0.0092\n",
      "train loss : 0.0098\n",
      "train loss : 0.0089\n",
      "train loss : 0.0085\n",
      "train loss : 0.0075\n",
      "train loss : 0.0085\n",
      "train loss : 0.0109\n",
      "train loss : 0.0086\n",
      "train loss : 0.0097\n",
      "train loss : 0.0085\n",
      "train loss : 0.0077\n",
      "train loss : 0.0085\n",
      "train loss : 0.0061\n",
      "train loss : 0.0086\n",
      "train loss : 0.0076\n",
      "train loss : 0.0080\n",
      "train loss : 0.0066\n",
      "train loss : 0.0074\n",
      "train loss : 0.0093\n",
      "train loss : 0.0076\n"
     ]
    },
    {
     "name": "stderr",
     "output_type": "stream",
     "text": [
      "100%|██████████| 200/200 [00:01<00:00, 110.03it/s]"
     ]
    },
    {
     "name": "stdout",
     "output_type": "stream",
     "text": [
      "train loss : 0.0062\n",
      "train loss : 0.0068\n",
      "train loss : 0.0074\n",
      "train loss : 0.0090\n",
      "train loss : 0.0078\n",
      "train loss : 0.0059\n",
      "train loss : 0.0065\n",
      "train loss : 0.0081\n",
      "train loss : 0.0089\n",
      "train loss : 0.0084\n",
      "train loss : 0.0067\n",
      "train loss : 0.0074\n",
      "train loss : 0.0070\n",
      "train loss : 0.0069\n",
      "train loss : 0.0057\n",
      "train loss : 0.0086\n",
      "train loss : 0.0076\n",
      "train loss : 0.0084\n",
      "train loss : 0.0073\n"
     ]
    },
    {
     "name": "stderr",
     "output_type": "stream",
     "text": [
      "\n"
     ]
    }
   ],
   "source": [
    "from tqdm import tqdm\n",
    "\n",
    "# GCN の学習を行う関数の定義\n",
    "def train_gcn() -> float:\n",
    "    gcn_model.train()\n",
    "    total_loss = 0.0\n",
    "    gcn_optimizer.zero_grad()\n",
    "    out = gcn_model(splitted_data)\n",
    "    loss = F.cross_entropy(\n",
    "        out[splitted_data.train_mask],\n",
    "        splitted_data.y[splitted_data.train_mask],\n",
    "    )\n",
    "    loss.backward()\n",
    "    gcn_optimizer.step()\n",
    "    return loss.item()\n",
    "\n",
    "# GCN の学習の実行\n",
    "for epoch in tqdm(range(1, 201)):\n",
    "    loss = train_gcn()\n",
    "    print(f\"train loss : {loss:.4f}\")"
   ]
  },
  {
   "cell_type": "code",
   "execution_count": 9,
   "metadata": {},
   "outputs": [
    {
     "name": "stdout",
     "output_type": "stream",
     "text": [
      "              precision    recall  f1-score   support\n",
      "\n",
      "           0       0.76      0.75      0.75       153\n",
      "           1       0.89      0.77      0.83        88\n",
      "           2       0.94      0.96      0.95       161\n",
      "           3       0.92      0.88      0.90       325\n",
      "           4       0.82      0.93      0.87       166\n",
      "           5       0.81      0.88      0.84       122\n",
      "           6       0.87      0.76      0.81        68\n",
      "\n",
      "    accuracy                           0.87      1083\n",
      "   macro avg       0.86      0.85      0.85      1083\n",
      "weighted avg       0.87      0.87      0.86      1083\n",
      "\n"
     ]
    }
   ],
   "source": [
    "from sklearn.metrics import classification_report\n",
    "\n",
    "y_true = splitted_data.y[splitted_data.test_mask].numpy()\n",
    "\n",
    "# 評価データに対する推論\n",
    "with torch.no_grad():\n",
    "    gcn_model.eval()\n",
    "    out = gcn_model(splitted_data)\n",
    "y_pred = out.argmax(dim=1)[splitted_data.test_mask]\n",
    "\n",
    "print(classification_report(y_true, y_pred))"
   ]
  },
  {
   "cell_type": "markdown",
   "metadata": {},
   "source": [
    "### 6.7.2 フィルタの差し替え"
   ]
  },
  {
   "cell_type": "code",
   "execution_count": 10,
   "metadata": {},
   "outputs": [],
   "source": [
    "from torch_geometric.nn import SAGEConv\n",
    "\n",
    "# GraphSAGE モデルの定義\n",
    "class GraphSAGE(torch.nn.Module):\n",
    "    def __init__(\n",
    "        self,\n",
    "        num_node_features: int,\n",
    "        projection_dim: int,\n",
    "        num_classes: int,\n",
    "    ) -> None:\n",
    "        super().__init__()\n",
    "        self.conv1 = SAGEConv(num_node_features, projection_dim)\n",
    "        self.conv2 = SAGEConv(projection_dim, num_classes)\n",
    "\n",
    "    def forward(self, data: Data) -> torch.Tensor:\n",
    "        x, edge_index = data.x, data.edge_index\n",
    "        x = self.conv1(x, edge_index)\n",
    "        x = F.relu(x)\n",
    "        x = F.dropout(x, training=self.training)\n",
    "        x = self.conv2(x, edge_index)\n",
    "        return F.log_softmax(x, dim=1)"
   ]
  },
  {
   "cell_type": "code",
   "execution_count": 11,
   "metadata": {},
   "outputs": [],
   "source": [
    "# GraphSAGE モデルのインスタンス化\n",
    "device = \"cuda\" if torch.cuda.is_available() else \"cpu\"\n",
    "sage_model = GraphSAGE(\n",
    "    num_node_features=dataset.num_node_features,\n",
    "    projection_dim=64,\n",
    "    num_classes=dataset.num_classes,\n",
    ").to(device)\n",
    "sage_optimizer = torch.optim.Adam(\n",
    "    list(sage_model.parameters()), lr=0.01\n",
    ")"
   ]
  },
  {
   "cell_type": "code",
   "execution_count": 12,
   "metadata": {},
   "outputs": [
    {
     "name": "stderr",
     "output_type": "stream",
     "text": [
      "  2%|▎         | 5/200 [00:00<00:04, 43.04it/s]"
     ]
    },
    {
     "name": "stdout",
     "output_type": "stream",
     "text": [
      "train loss : 1.9218\n",
      "train loss : 1.6690\n",
      "train loss : 1.3818\n",
      "train loss : 1.0896\n",
      "train loss : 0.8061\n",
      "train loss : 0.6092\n",
      "train loss : 0.4571\n",
      "train loss : 0.3613\n",
      "train loss : 0.2999\n"
     ]
    },
    {
     "name": "stderr",
     "output_type": "stream",
     "text": [
      "  8%|▊         | 15/200 [00:00<00:04, 42.99it/s]"
     ]
    },
    {
     "name": "stdout",
     "output_type": "stream",
     "text": [
      "train loss : 0.2547\n",
      "train loss : 0.2191\n",
      "train loss : 0.1905\n",
      "train loss : 0.1783\n",
      "train loss : 0.1630\n",
      "train loss : 0.1452\n",
      "train loss : 0.1081\n",
      "train loss : 0.1110\n",
      "train loss : 0.0853\n"
     ]
    },
    {
     "name": "stderr",
     "output_type": "stream",
     "text": [
      " 12%|█▎        | 25/200 [00:00<00:04, 43.51it/s]"
     ]
    },
    {
     "name": "stdout",
     "output_type": "stream",
     "text": [
      "train loss : 0.0838\n",
      "train loss : 0.0690\n",
      "train loss : 0.0680\n",
      "train loss : 0.0563\n",
      "train loss : 0.0440\n",
      "train loss : 0.0394\n",
      "train loss : 0.0338\n",
      "train loss : 0.0318\n",
      "train loss : 0.0253\n"
     ]
    },
    {
     "name": "stderr",
     "output_type": "stream",
     "text": [
      " 18%|█▊        | 35/200 [00:00<00:03, 43.56it/s]"
     ]
    },
    {
     "name": "stdout",
     "output_type": "stream",
     "text": [
      "train loss : 0.0190\n",
      "train loss : 0.0236\n",
      "train loss : 0.0201\n",
      "train loss : 0.0187\n",
      "train loss : 0.0175\n",
      "train loss : 0.0136\n",
      "train loss : 0.0154\n",
      "train loss : 0.0154\n",
      "train loss : 0.0109\n"
     ]
    },
    {
     "name": "stderr",
     "output_type": "stream",
     "text": [
      " 22%|██▎       | 45/200 [00:01<00:03, 43.16it/s]"
     ]
    },
    {
     "name": "stdout",
     "output_type": "stream",
     "text": [
      "train loss : 0.0132\n",
      "train loss : 0.0084\n",
      "train loss : 0.0122\n",
      "train loss : 0.0102\n",
      "train loss : 0.0113\n",
      "train loss : 0.0080\n",
      "train loss : 0.0062\n",
      "train loss : 0.0060\n",
      "train loss : 0.0075\n"
     ]
    },
    {
     "name": "stderr",
     "output_type": "stream",
     "text": [
      " 25%|██▌       | 50/200 [00:01<00:03, 42.98it/s]"
     ]
    },
    {
     "name": "stdout",
     "output_type": "stream",
     "text": [
      "train loss : 0.0093\n",
      "train loss : 0.0053\n",
      "train loss : 0.0052\n",
      "train loss : 0.0058\n",
      "train loss : 0.0057\n",
      "train loss : 0.0061\n",
      "train loss : 0.0059\n",
      "train loss : 0.0048\n",
      "train loss : 0.0066\n"
     ]
    },
    {
     "name": "stderr",
     "output_type": "stream",
     "text": [
      " 30%|███       | 60/200 [00:01<00:03, 43.39it/s]"
     ]
    },
    {
     "name": "stdout",
     "output_type": "stream",
     "text": [
      "train loss : 0.0045\n",
      "train loss : 0.0041\n",
      "train loss : 0.0051\n",
      "train loss : 0.0039\n",
      "train loss : 0.0034\n",
      "train loss : 0.0042\n",
      "train loss : 0.0048\n",
      "train loss : 0.0041\n",
      "train loss : 0.0044\n"
     ]
    },
    {
     "name": "stderr",
     "output_type": "stream",
     "text": [
      " 35%|███▌      | 70/200 [00:01<00:03, 42.60it/s]"
     ]
    },
    {
     "name": "stdout",
     "output_type": "stream",
     "text": [
      "train loss : 0.0031\n",
      "train loss : 0.0037\n",
      "train loss : 0.0029\n",
      "train loss : 0.0027\n",
      "train loss : 0.0027\n",
      "train loss : 0.0038\n",
      "train loss : 0.0034\n",
      "train loss : 0.0030\n",
      "train loss : 0.0028\n"
     ]
    },
    {
     "name": "stderr",
     "output_type": "stream",
     "text": [
      " 40%|████      | 80/200 [00:01<00:02, 43.10it/s]"
     ]
    },
    {
     "name": "stdout",
     "output_type": "stream",
     "text": [
      "train loss : 0.0021\n",
      "train loss : 0.0038\n",
      "train loss : 0.0020\n",
      "train loss : 0.0035\n",
      "train loss : 0.0022\n",
      "train loss : 0.0030\n",
      "train loss : 0.0028\n",
      "train loss : 0.0020\n",
      "train loss : 0.0019\n"
     ]
    },
    {
     "name": "stderr",
     "output_type": "stream",
     "text": [
      " 45%|████▌     | 90/200 [00:02<00:02, 42.71it/s]"
     ]
    },
    {
     "name": "stdout",
     "output_type": "stream",
     "text": [
      "train loss : 0.0027\n",
      "train loss : 0.0033\n",
      "train loss : 0.0020\n",
      "train loss : 0.0028\n",
      "train loss : 0.0019\n",
      "train loss : 0.0022\n",
      "train loss : 0.0025\n",
      "train loss : 0.0017\n",
      "train loss : 0.0025\n"
     ]
    },
    {
     "name": "stderr",
     "output_type": "stream",
     "text": [
      " 48%|████▊     | 95/200 [00:02<00:02, 42.88it/s]"
     ]
    },
    {
     "name": "stdout",
     "output_type": "stream",
     "text": [
      "train loss : 0.0026\n",
      "train loss : 0.0016\n",
      "train loss : 0.0026\n",
      "train loss : 0.0012\n",
      "train loss : 0.0021\n",
      "train loss : 0.0021\n",
      "train loss : 0.0025\n",
      "train loss : 0.0020\n",
      "train loss : 0.0026\n"
     ]
    },
    {
     "name": "stderr",
     "output_type": "stream",
     "text": [
      " 52%|█████▎    | 105/200 [00:02<00:02, 43.20it/s]"
     ]
    },
    {
     "name": "stdout",
     "output_type": "stream",
     "text": [
      "train loss : 0.0017\n",
      "train loss : 0.0015\n",
      "train loss : 0.0023\n",
      "train loss : 0.0028\n",
      "train loss : 0.0016\n",
      "train loss : 0.0022\n",
      "train loss : 0.0025\n",
      "train loss : 0.0013\n",
      "train loss : 0.0017\n"
     ]
    },
    {
     "name": "stderr",
     "output_type": "stream",
     "text": [
      " 57%|█████▊    | 115/200 [00:02<00:02, 42.07it/s]"
     ]
    },
    {
     "name": "stdout",
     "output_type": "stream",
     "text": [
      "train loss : 0.0031\n",
      "train loss : 0.0013\n",
      "train loss : 0.0015\n",
      "train loss : 0.0018\n",
      "train loss : 0.0015\n",
      "train loss : 0.0022\n",
      "train loss : 0.0025\n",
      "train loss : 0.0011\n",
      "train loss : 0.0021\n"
     ]
    },
    {
     "name": "stderr",
     "output_type": "stream",
     "text": [
      " 62%|██████▎   | 125/200 [00:02<00:01, 42.22it/s]"
     ]
    },
    {
     "name": "stdout",
     "output_type": "stream",
     "text": [
      "train loss : 0.0022\n",
      "train loss : 0.0016\n",
      "train loss : 0.0013\n",
      "train loss : 0.0024\n",
      "train loss : 0.0026\n",
      "train loss : 0.0015\n",
      "train loss : 0.0014\n",
      "train loss : 0.0023\n",
      "train loss : 0.0014\n"
     ]
    },
    {
     "name": "stderr",
     "output_type": "stream",
     "text": [
      " 68%|██████▊   | 135/200 [00:03<00:01, 42.49it/s]"
     ]
    },
    {
     "name": "stdout",
     "output_type": "stream",
     "text": [
      "train loss : 0.0022\n",
      "train loss : 0.0015\n",
      "train loss : 0.0013\n",
      "train loss : 0.0009\n",
      "train loss : 0.0013\n",
      "train loss : 0.0012\n",
      "train loss : 0.0013\n",
      "train loss : 0.0020\n",
      "train loss : 0.0015\n"
     ]
    },
    {
     "name": "stderr",
     "output_type": "stream",
     "text": [
      " 70%|███████   | 140/200 [00:03<00:01, 42.53it/s]"
     ]
    },
    {
     "name": "stdout",
     "output_type": "stream",
     "text": [
      "train loss : 0.0013\n",
      "train loss : 0.0012\n",
      "train loss : 0.0013\n",
      "train loss : 0.0018\n",
      "train loss : 0.0013\n",
      "train loss : 0.0019\n",
      "train loss : 0.0014\n",
      "train loss : 0.0012\n",
      "train loss : 0.0011\n"
     ]
    },
    {
     "name": "stderr",
     "output_type": "stream",
     "text": [
      " 75%|███████▌  | 150/200 [00:03<00:01, 43.43it/s]"
     ]
    },
    {
     "name": "stdout",
     "output_type": "stream",
     "text": [
      "train loss : 0.0019\n",
      "train loss : 0.0021\n",
      "train loss : 0.0022\n",
      "train loss : 0.0014\n",
      "train loss : 0.0013\n",
      "train loss : 0.0014\n",
      "train loss : 0.0007\n",
      "train loss : 0.0012\n",
      "train loss : 0.0012\n"
     ]
    },
    {
     "name": "stderr",
     "output_type": "stream",
     "text": [
      " 80%|████████  | 160/200 [00:03<00:00, 43.52it/s]"
     ]
    },
    {
     "name": "stdout",
     "output_type": "stream",
     "text": [
      "train loss : 0.0009\n",
      "train loss : 0.0009\n",
      "train loss : 0.0011\n",
      "train loss : 0.0009\n",
      "train loss : 0.0009\n",
      "train loss : 0.0014\n",
      "train loss : 0.0009\n",
      "train loss : 0.0014\n",
      "train loss : 0.0013\n"
     ]
    },
    {
     "name": "stderr",
     "output_type": "stream",
     "text": [
      " 85%|████████▌ | 170/200 [00:03<00:00, 42.19it/s]"
     ]
    },
    {
     "name": "stdout",
     "output_type": "stream",
     "text": [
      "train loss : 0.0014\n",
      "train loss : 0.0014\n",
      "train loss : 0.0010\n",
      "train loss : 0.0017\n",
      "train loss : 0.0006\n",
      "train loss : 0.0007\n",
      "train loss : 0.0017\n",
      "train loss : 0.0015\n",
      "train loss : 0.0010\n"
     ]
    },
    {
     "name": "stderr",
     "output_type": "stream",
     "text": [
      " 90%|█████████ | 180/200 [00:04<00:00, 42.11it/s]"
     ]
    },
    {
     "name": "stdout",
     "output_type": "stream",
     "text": [
      "train loss : 0.0007\n",
      "train loss : 0.0012\n",
      "train loss : 0.0006\n",
      "train loss : 0.0008\n",
      "train loss : 0.0025\n",
      "train loss : 0.0011\n",
      "train loss : 0.0008\n",
      "train loss : 0.0008\n",
      "train loss : 0.0008\n"
     ]
    },
    {
     "name": "stderr",
     "output_type": "stream",
     "text": [
      " 92%|█████████▎| 185/200 [00:04<00:00, 42.16it/s]"
     ]
    },
    {
     "name": "stdout",
     "output_type": "stream",
     "text": [
      "train loss : 0.0008\n",
      "train loss : 0.0023\n",
      "train loss : 0.0008\n",
      "train loss : 0.0013\n",
      "train loss : 0.0010\n",
      "train loss : 0.0012\n",
      "train loss : 0.0011\n",
      "train loss : 0.0010\n",
      "train loss : 0.0014\n"
     ]
    },
    {
     "name": "stderr",
     "output_type": "stream",
     "text": [
      " 98%|█████████▊| 195/200 [00:04<00:00, 41.76it/s]"
     ]
    },
    {
     "name": "stdout",
     "output_type": "stream",
     "text": [
      "train loss : 0.0006\n",
      "train loss : 0.0008\n",
      "train loss : 0.0010\n",
      "train loss : 0.0007\n",
      "train loss : 0.0007\n",
      "train loss : 0.0018\n",
      "train loss : 0.0021\n",
      "train loss : 0.0010\n",
      "train loss : 0.0008\n"
     ]
    },
    {
     "name": "stderr",
     "output_type": "stream",
     "text": [
      "100%|██████████| 200/200 [00:04<00:00, 42.72it/s]"
     ]
    },
    {
     "name": "stdout",
     "output_type": "stream",
     "text": [
      "train loss : 0.0011\n",
      "train loss : 0.0007\n"
     ]
    },
    {
     "name": "stderr",
     "output_type": "stream",
     "text": [
      "\n"
     ]
    }
   ],
   "source": [
    "# GraphSAGEモデルの学習を行う関数の定義\n",
    "def train_sage() -> float:\n",
    "    sage_model.train()\n",
    "    total_loss = 0\n",
    "    sage_optimizer.zero_grad()\n",
    "    out = sage_model(splitted_data)\n",
    "    loss = F.cross_entropy(\n",
    "        out[splitted_data.train_mask],\n",
    "        splitted_data.y[splitted_data.train_mask],\n",
    "    )\n",
    "    loss.backward()\n",
    "    sage_optimizer.step()\n",
    "    return loss.item()\n",
    "\n",
    "\n",
    "# GraphSAGEモデルの学習の実行\n",
    "for epoch in tqdm(range(1, 201)):\n",
    "    loss = train_sage()\n",
    "    print(f\"train loss : {loss:.4f}\")"
   ]
  },
  {
   "cell_type": "code",
   "execution_count": 13,
   "metadata": {},
   "outputs": [
    {
     "name": "stdout",
     "output_type": "stream",
     "text": [
      "              precision    recall  f1-score   support\n",
      "\n",
      "           0       0.82      0.78      0.80       153\n",
      "           1       0.96      0.84      0.90        88\n",
      "           2       0.93      0.95      0.94       161\n",
      "           3       0.92      0.90      0.91       325\n",
      "           4       0.85      0.92      0.88       166\n",
      "           5       0.87      0.86      0.86       122\n",
      "           6       0.81      0.85      0.83        68\n",
      "\n",
      "    accuracy                           0.88      1083\n",
      "   macro avg       0.88      0.87      0.87      1083\n",
      "weighted avg       0.88      0.88      0.88      1083\n",
      "\n"
     ]
    }
   ],
   "source": [
    "from sklearn.metrics import classification_report\n",
    "from sklearn.utils.validation import column_or_1d\n",
    "\n",
    "y_true = column_or_1d(splitted_data.y[splitted_data.test_mask].numpy())\n",
    "\n",
    "# 評価データに対する推論\n",
    "with torch.no_grad():\n",
    "    sage_model.eval()\n",
    "    out = sage_model(splitted_data)\n",
    "    y_pred = out.argmax(dim=1)[splitted_data.test_mask]\n",
    "\n",
    "# 評価結果の表示\n",
    "print(classification_report(y_true, y_pred))"
   ]
  },
  {
   "cell_type": "markdown",
   "metadata": {},
   "source": [
    "### 6.8.3 GNNによる論文の引用関係の予測"
   ]
  },
  {
   "cell_type": "code",
   "execution_count": 14,
   "metadata": {},
   "outputs": [
    {
     "name": "stdout",
     "output_type": "stream",
     "text": [
      "torch.Size([2, 6334])\n",
      "torch.Size([2, 4222])\n"
     ]
    }
   ],
   "source": [
    "from torch_geometric.transforms import RandomLinkSplit\n",
    "\n",
    "# エッジを学習データとテストデータに分割\n",
    "link_splitter = RandomLinkSplit(\n",
    "    num_val=0.0,\n",
    "    num_test=0.4,\n",
    "    is_undirected=True,\n",
    ")\n",
    "train_data, _, test_data = link_splitter(dataset._data)\n",
    "print(train_data.edge_label_index.shape)\n",
    "print(test_data.edge_label_index.shape)"
   ]
  },
  {
   "cell_type": "code",
   "execution_count": 15,
   "metadata": {},
   "outputs": [],
   "source": [
    "# GCNによる特徴変換の定義\n",
    "class GCNLayer(torch.nn.Module):\n",
    "\n",
    "    def __init__(\n",
    "        self,\n",
    "        num_node_features: int,\n",
    "        projection_dim: int,\n",
    "    ) -> None:\n",
    "        super().__init__()\n",
    "        self.conv1 = GCNConv(num_node_features, projection_dim)\n",
    "        self.conv2 = GCNConv(projection_dim, projection_dim)\n",
    "\n",
    "    def forward(self, data: Data) -> torch.Tensor:\n",
    "        x, edge_index = data.x, data.edge_index\n",
    "        x = self.conv1(x, edge_index)\n",
    "        x = F.relu(x)\n",
    "        x = F.dropout(x, training=self.training)\n",
    "        return self.conv2(x, edge_index)\n",
    "\n",
    "\n",
    "# リンク予測モデルの定義\n",
    "class LinkPredModel(torch.nn.Module):\n",
    "\n",
    "    def __init__(\n",
    "        self,\n",
    "        num_node_features: int,\n",
    "        projection_dim: int,\n",
    "    ) -> None:\n",
    "        super().__init__()\n",
    "        self.gcn_layer = GCNLayer(num_node_features, projection_dim)\n",
    "\n",
    "    def forward(self, data: Data, edge_label_index: torch.Tensor) -> None:\n",
    "        x = self.gcn_layer(data)\n",
    "        x_src = x[edge_label_index[0]]\n",
    "        x_dst = x[edge_label_index[1]]\n",
    "        # 内積をシグモイド関数に入力して、0〜1の値に変換\n",
    "        return F.sigmoid((x_src * x_dst).sum(-1))"
   ]
  },
  {
   "cell_type": "code",
   "execution_count": 19,
   "metadata": {},
   "outputs": [],
   "source": [
    "# リンク予測モデルのインスタンス化\n",
    "device = \"cuda\" if torch.cuda.is_available() else \"cpu\"\n",
    "link_pred_model = LinkPredModel(\n",
    "    num_node_features=dataset.num_node_features,\n",
    "    projection_dim=64,\n",
    ").to(device)\n",
    "\n",
    "# 最適化アルゴリズムの選択\n",
    "link_pred_optimizer = torch.optim.Adam(list(link_pred_model.parameters()), lr=0.01)"
   ]
  },
  {
   "cell_type": "code",
   "execution_count": 20,
   "metadata": {},
   "outputs": [
    {
     "name": "stderr",
     "output_type": "stream",
     "text": [
      " 33%|███▎      | 10/30 [00:00<00:00, 46.37it/s]"
     ]
    },
    {
     "name": "stdout",
     "output_type": "stream",
     "text": [
      "train loss : 0.7032\n",
      "train loss : 0.8219\n",
      "train loss : 0.7053\n",
      "train loss : 0.7021\n",
      "train loss : 0.6952\n",
      "train loss : 0.6937\n",
      "train loss : 0.6925\n",
      "train loss : 0.6898\n",
      "train loss : 0.6854\n",
      "train loss : 0.6796\n"
     ]
    },
    {
     "name": "stderr",
     "output_type": "stream",
     "text": [
      " 53%|█████▎    | 16/30 [00:00<00:00, 48.85it/s]"
     ]
    },
    {
     "name": "stdout",
     "output_type": "stream",
     "text": [
      "train loss : 0.6690\n",
      "train loss : 0.6593\n",
      "train loss : 0.6530\n",
      "train loss : 0.6454\n",
      "train loss : 0.6363\n",
      "train loss : 0.6346\n",
      "train loss : 0.6329\n",
      "train loss : 0.6308\n",
      "train loss : 0.6276\n",
      "train loss : 0.6200\n",
      "train loss : 0.6266\n"
     ]
    },
    {
     "name": "stderr",
     "output_type": "stream",
     "text": [
      "100%|██████████| 30/30 [00:00<00:00, 49.45it/s]"
     ]
    },
    {
     "name": "stdout",
     "output_type": "stream",
     "text": [
      "train loss : 0.6247\n",
      "train loss : 0.6232\n",
      "train loss : 0.6122\n",
      "train loss : 0.6147\n",
      "train loss : 0.6088\n",
      "train loss : 0.6018\n",
      "train loss : 0.6051\n",
      "train loss : 0.6009\n",
      "train loss : 0.5986\n"
     ]
    },
    {
     "name": "stderr",
     "output_type": "stream",
     "text": [
      "\n"
     ]
    }
   ],
   "source": [
    "from torch_geometric.utils import negative_sampling\n",
    "\n",
    "\n",
    "# リンク予測モデルを学習する関数の定義\n",
    "def train_link_pred_model() -> float:\n",
    "    link_pred_model.train()\n",
    "    link_pred_optimizer.zero_grad()\n",
    "\n",
    "    total_loss = 0\n",
    "    link_pred_optimizer.zero_grad()\n",
    "\n",
    "    # Negative Samplingによる負例の獲得\n",
    "    negative_edge_index = negative_sampling(\n",
    "        edge_index=train_data.edge_index,\n",
    "        num_nodes=train_data.num_nodes,\n",
    "        num_neg_samples=train_data.edge_label_index.size(1),\n",
    "        method=\"sparse\",\n",
    "    )\n",
    "\n",
    "    # 学習対象のエッジのインデックス\n",
    "    edge_label_index = torch.cat(\n",
    "        [train_data.edge_label_index, negative_edge_index],\n",
    "        dim=-1,\n",
    "    )\n",
    "\n",
    "    # 学習対象のエッジのラベル\n",
    "    # 1は実在するリンク、0はランダムに選ばれたノード間のリンク\n",
    "    edge_label = torch.cat(\n",
    "        [\n",
    "            train_data.edge_label,\n",
    "            train_data.edge_label.new_zeros(negative_edge_index.size(1)),\n",
    "        ],\n",
    "        dim=0,\n",
    "    )\n",
    "    out = link_pred_model(train_data, edge_label_index)\n",
    "    loss = F.binary_cross_entropy(out, edge_label)\n",
    "    loss.backward()\n",
    "    link_pred_optimizer.step()\n",
    "    total_loss += loss.item()\n",
    "    return total_loss\n",
    "\n",
    "\n",
    "# リンク予測モデルの学習の実行\n",
    "for epoch in tqdm(range(1, 31)):\n",
    "    loss = train_link_pred_model()\n",
    "    print(f\"train loss : {loss:.4f}\")"
   ]
  },
  {
   "cell_type": "code",
   "execution_count": 21,
   "metadata": {},
   "outputs": [
    {
     "name": "stdout",
     "output_type": "stream",
     "text": [
      "AUC : 0.8338\n"
     ]
    }
   ],
   "source": [
    "from sklearn.metrics import roc_auc_score\n",
    "\n",
    "# 評価データに対する推論\n",
    "with torch.no_grad():\n",
    "    link_pred_model.eval()\n",
    "    out = link_pred_model(test_data, test_data.edge_label_index)\n",
    "    y_true = test_data.edge_label.numpy()\n",
    "    y_pred = out.numpy()\n",
    "\n",
    "# AUCの計算\n",
    "print(f\"AUC : {roc_auc_score(y_true, y_pred):.4f}\")"
   ]
  },
  {
   "cell_type": "code",
   "execution_count": 22,
   "metadata": {},
   "outputs": [
    {
     "data": {
      "image/png": "[encoded data removed]",
      "text/plain": [
       "<Figure size 640x480 with 1 Axes>"
      ]
     },
     "metadata": {},
     "output_type": "display_data"
    }
   ],
   "source": [
    "import matplotlib.pyplot as plt\n",
    "from sklearn.metrics import roc_curve\n",
    "\n",
    "# ROC曲線の描画\n",
    "fpr, tpr, _ = roc_curve(y_true, y_pred)\n",
    "plt.plot(fpr, tpr)\n",
    "plt.xlim([0, 1])\n",
    "plt.ylim([0, 1])\n",
    "plt.xlabel(\"False Positive Rate\")\n",
    "plt.ylabel(\"True Positive Rate\")\n",
    "plt.show()"
   ]
  }
 ],
 "metadata": {
  "kernelspec": {
   "display_name": "Python 3",
   "language": "python",
   "name": "python3"
  },
  "language_info": {
   "codemirror_mode": {
    "name": "ipython",
    "version": 3
   },
   "file_extension": ".py",
   "mimetype": "text/x-python",
   "name": "python",
   "nbconvert_exporter": "python",
   "pygments_lexer": "ipython3",
   "version": "3.10.1"
  }
 },
 "nbformat": 4,
 "nbformat_minor": 2
}
