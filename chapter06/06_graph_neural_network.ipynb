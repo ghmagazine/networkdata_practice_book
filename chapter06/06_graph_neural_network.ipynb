{
  "nbformat": 4,
  "nbformat_minor": 0,
  "metadata": {
    "colab": {
      "provenance": []
    },
    "kernelspec": {
      "name": "python3",
      "display_name": "Python 3"
    },
    "language_info": {
      "name": "python"
    }
  },
  "cells": [
    {
      "cell_type": "markdown",
      "source": [
        "# 第6章 グラフニューラルネットワーク"
      ],
      "metadata": {
        "id": "c3XmiNB0oRWB"
      }
    },
    {
      "cell_type": "markdown",
      "source": [
        "### 必要なライブラリのインストール"
      ],
      "metadata": {
        "id": "yljcfHpBz3fg"
      }
    },
    {
      "cell_type": "code",
      "execution_count": 1,
      "metadata": {
        "colab": {
          "base_uri": "https://localhost:8080/"
        },
        "id": "LDva_RuKoKAD",
        "outputId": "b00dd26d-873d-4b74-88c4-44e61398fb58",
        "collapsed": true
      },
      "outputs": [
        {
          "output_type": "stream",
          "name": "stdout",
          "text": [
            "Found existing installation: fastai 2.7.18\n",
            "Uninstalling fastai-2.7.18:\n",
            "  Successfully uninstalled fastai-2.7.18\n",
            "Found existing installation: torch 2.5.1+cu124\n",
            "Uninstalling torch-2.5.1+cu124:\n",
            "  Successfully uninstalled torch-2.5.1+cu124\n",
            "Found existing installation: torchaudio 2.5.1+cu124\n",
            "Uninstalling torchaudio-2.5.1+cu124:\n",
            "  Successfully uninstalled torchaudio-2.5.1+cu124\n",
            "\u001b[33mWARNING: Skipping torchdata as it is not installed.\u001b[0m\u001b[33m\n",
            "\u001b[0m\u001b[33mWARNING: Skipping torchtext as it is not installed.\u001b[0m\u001b[33m\n",
            "\u001b[0mFound existing installation: torchvision 0.20.1+cu124\n",
            "Uninstalling torchvision-0.20.1+cu124:\n",
            "  Successfully uninstalled torchvision-0.20.1+cu124\n",
            "Looking in indexes: https://download.pytorch.org/whl/cpu\n",
            "Collecting torch==2.0.0+cpu\n",
            "  Downloading https://download.pytorch.org/whl/cpu/torch-2.0.0%2Bcpu-cp311-cp311-linux_x86_64.whl (195.4 MB)\n",
            "\u001b[2K     \u001b[90m━━━━━━━━━━━━━━━━━━━━━━━━━━━━━━━━━━━━━━━━\u001b[0m \u001b[32m195.4/195.4 MB\u001b[0m \u001b[31m6.4 MB/s\u001b[0m eta \u001b[36m0:00:00\u001b[0m\n",
            "\u001b[?25hRequirement already satisfied: filelock in /usr/local/lib/python3.11/dist-packages (from torch==2.0.0+cpu) (3.17.0)\n",
            "Requirement already satisfied: typing-extensions in /usr/local/lib/python3.11/dist-packages (from torch==2.0.0+cpu) (4.12.2)\n",
            "Requirement already satisfied: sympy in /usr/local/lib/python3.11/dist-packages (from torch==2.0.0+cpu) (1.13.1)\n",
            "Requirement already satisfied: networkx in /usr/local/lib/python3.11/dist-packages (from torch==2.0.0+cpu) (3.4.2)\n",
            "Requirement already satisfied: jinja2 in /usr/local/lib/python3.11/dist-packages (from torch==2.0.0+cpu) (3.1.5)\n",
            "Requirement already satisfied: MarkupSafe>=2.0 in /usr/local/lib/python3.11/dist-packages (from jinja2->torch==2.0.0+cpu) (3.0.2)\n",
            "Requirement already satisfied: mpmath<1.4,>=1.1.0 in /usr/local/lib/python3.11/dist-packages (from sympy->torch==2.0.0+cpu) (1.3.0)\n",
            "Installing collected packages: torch\n",
            "\u001b[31mERROR: pip's dependency resolver does not currently take into account all the packages that are installed. This behaviour is the source of the following dependency conflicts.\n",
            "timm 1.0.14 requires torchvision, which is not installed.\u001b[0m\u001b[31m\n",
            "\u001b[0mSuccessfully installed torch-2.0.0+cpu\n",
            "Looking in links: https://data.pyg.org/whl/torch-2.0.0+cpu.html\n",
            "Collecting torch-cluster\n",
            "  Downloading https://data.pyg.org/whl/torch-2.0.0%2Bcpu/torch_cluster-1.6.3%2Bpt20cpu-cp311-cp311-linux_x86_64.whl (750 kB)\n",
            "\u001b[2K     \u001b[90m━━━━━━━━━━━━━━━━━━━━━━━━━━━━━━━━━━━━━━━━\u001b[0m \u001b[32m750.9/750.9 kB\u001b[0m \u001b[31m6.6 MB/s\u001b[0m eta \u001b[36m0:00:00\u001b[0m\n",
            "\u001b[?25hCollecting torch-scatter\n",
            "  Downloading https://data.pyg.org/whl/torch-2.0.0%2Bcpu/torch_scatter-2.1.2%2Bpt20cpu-cp311-cp311-linux_x86_64.whl (494 kB)\n",
            "\u001b[2K     \u001b[90m━━━━━━━━━━━━━━━━━━━━━━━━━━━━━━━━━━━━━━━━\u001b[0m \u001b[32m494.0/494.0 kB\u001b[0m \u001b[31m30.4 MB/s\u001b[0m eta \u001b[36m0:00:00\u001b[0m\n",
            "\u001b[?25hCollecting torch-sparse\n",
            "  Downloading https://data.pyg.org/whl/torch-2.0.0%2Bcpu/torch_sparse-0.6.18%2Bpt20cpu-cp311-cp311-linux_x86_64.whl (1.2 MB)\n",
            "\u001b[2K     \u001b[90m━━━━━━━━━━━━━━━━━━━━━━━━━━━━━━━━━━━━━━━━\u001b[0m \u001b[32m1.2/1.2 MB\u001b[0m \u001b[31m9.3 MB/s\u001b[0m eta \u001b[36m0:00:00\u001b[0m\n",
            "\u001b[?25hRequirement already satisfied: scipy in /usr/local/lib/python3.11/dist-packages (from torch-cluster) (1.13.1)\n",
            "Requirement already satisfied: numpy<2.3,>=1.22.4 in /usr/local/lib/python3.11/dist-packages (from scipy->torch-cluster) (1.26.4)\n",
            "Installing collected packages: torch-scatter, torch-sparse, torch-cluster\n",
            "Successfully installed torch-cluster-1.6.3+pt20cpu torch-scatter-2.1.2+pt20cpu torch-sparse-0.6.18+pt20cpu\n",
            "Collecting torch-geometric==2.3.1\n",
            "  Downloading torch_geometric-2.3.1.tar.gz (661 kB)\n",
            "\u001b[2K     \u001b[90m━━━━━━━━━━━━━━━━━━━━━━━━━━━━━━━━━━━━━━━━\u001b[0m \u001b[32m661.6/661.6 kB\u001b[0m \u001b[31m10.5 MB/s\u001b[0m eta \u001b[36m0:00:00\u001b[0m\n",
            "\u001b[?25h  Installing build dependencies ... \u001b[?25l\u001b[?25hdone\n",
            "  Getting requirements to build wheel ... \u001b[?25l\u001b[?25hdone\n",
            "  Preparing metadata (pyproject.toml) ... \u001b[?25l\u001b[?25hdone\n",
            "Requirement already satisfied: tqdm in /usr/local/lib/python3.11/dist-packages (from torch-geometric==2.3.1) (4.67.1)\n",
            "Requirement already satisfied: numpy in /usr/local/lib/python3.11/dist-packages (from torch-geometric==2.3.1) (1.26.4)\n",
            "Requirement already satisfied: scipy in /usr/local/lib/python3.11/dist-packages (from torch-geometric==2.3.1) (1.13.1)\n",
            "Requirement already satisfied: jinja2 in /usr/local/lib/python3.11/dist-packages (from torch-geometric==2.3.1) (3.1.5)\n",
            "Requirement already satisfied: requests in /usr/local/lib/python3.11/dist-packages (from torch-geometric==2.3.1) (2.32.3)\n",
            "Requirement already satisfied: pyparsing in /usr/local/lib/python3.11/dist-packages (from torch-geometric==2.3.1) (3.2.1)\n",
            "Requirement already satisfied: scikit-learn in /usr/local/lib/python3.11/dist-packages (from torch-geometric==2.3.1) (1.6.1)\n",
            "Requirement already satisfied: psutil>=5.8.0 in /usr/local/lib/python3.11/dist-packages (from torch-geometric==2.3.1) (5.9.5)\n",
            "Requirement already satisfied: MarkupSafe>=2.0 in /usr/local/lib/python3.11/dist-packages (from jinja2->torch-geometric==2.3.1) (3.0.2)\n",
            "Requirement already satisfied: charset-normalizer<4,>=2 in /usr/local/lib/python3.11/dist-packages (from requests->torch-geometric==2.3.1) (3.4.1)\n",
            "Requirement already satisfied: idna<4,>=2.5 in /usr/local/lib/python3.11/dist-packages (from requests->torch-geometric==2.3.1) (3.10)\n",
            "Requirement already satisfied: urllib3<3,>=1.21.1 in /usr/local/lib/python3.11/dist-packages (from requests->torch-geometric==2.3.1) (2.3.0)\n",
            "Requirement already satisfied: certifi>=2017.4.17 in /usr/local/lib/python3.11/dist-packages (from requests->torch-geometric==2.3.1) (2025.1.31)\n",
            "Requirement already satisfied: joblib>=1.2.0 in /usr/local/lib/python3.11/dist-packages (from scikit-learn->torch-geometric==2.3.1) (1.4.2)\n",
            "Requirement already satisfied: threadpoolctl>=3.1.0 in /usr/local/lib/python3.11/dist-packages (from scikit-learn->torch-geometric==2.3.1) (3.5.0)\n",
            "Building wheels for collected packages: torch-geometric\n",
            "  Building wheel for torch-geometric (pyproject.toml) ... \u001b[?25l\u001b[?25hdone\n",
            "  Created wheel for torch-geometric: filename=torch_geometric-2.3.1-py3-none-any.whl size=910462 sha256=497726b4cd3f5f74ec492829c68ab3f35ef8de22bf7ecd1ca7222a9a7d16c9d7\n",
            "  Stored in directory: /root/.cache/pip/wheels/25/78/6c/9fd091ca1c5e137c66cbd03696ffa14f75e9abc5abfe0dbcc6\n",
            "Successfully built torch-geometric\n",
            "Installing collected packages: torch-geometric\n",
            "Successfully installed torch-geometric-2.3.1\n"
          ]
        }
      ],
      "source": [
        "# 依存ライブラリのインストール\n",
        "!pip uninstall -y fastai torch torchaudio torchdata torchtext torchvision\n",
        "!pip install torch==2.0.0+cpu --index-url https://download.pytorch.org/whl/cpu\n",
        "!pip install torch-cluster torch-scatter torch-sparse -f https://data.pyg.org/whl/torch-2.0.0+cpu.html\n",
        "\n",
        "# 必要なライブラリのインストール\n",
        "!pip install torch-geometric==2.3.1"
      ]
    },
    {
      "cell_type": "markdown",
      "source": [
        "### Coraデータセットのダウンロード"
      ],
      "metadata": {
        "id": "lMcOOoDF0Zfx"
      }
    },
    {
      "cell_type": "code",
      "source": [
        "# 必要なライブラリのインポート\n",
        "from torch_geometric.datasets import Planetoid\n",
        "\n",
        "# torch_geometric の Dataset としてダウンロード\n",
        "dataset = Planetoid(root=\"./dataset\", name=\"Cora\", split=\"full\")"
      ],
      "metadata": {
        "id": "abRxVkYVoSsf",
        "colab": {
          "base_uri": "https://localhost:8080/"
        },
        "outputId": "05269129-8559-4300-c8b6-ffc34a9031d3"
      },
      "execution_count": 2,
      "outputs": [
        {
          "output_type": "stream",
          "name": "stderr",
          "text": [
            "Downloading https://github.com/kimiyoung/planetoid/raw/master/data/ind.cora.x\n",
            "Downloading https://github.com/kimiyoung/planetoid/raw/master/data/ind.cora.tx\n",
            "Downloading https://github.com/kimiyoung/planetoid/raw/master/data/ind.cora.allx\n",
            "Downloading https://github.com/kimiyoung/planetoid/raw/master/data/ind.cora.y\n",
            "Downloading https://github.com/kimiyoung/planetoid/raw/master/data/ind.cora.ty\n",
            "Downloading https://github.com/kimiyoung/planetoid/raw/master/data/ind.cora.ally\n",
            "Downloading https://github.com/kimiyoung/planetoid/raw/master/data/ind.cora.graph\n",
            "Downloading https://github.com/kimiyoung/planetoid/raw/master/data/ind.cora.test.index\n",
            "Processing...\n",
            "Done!\n"
          ]
        }
      ]
    },
    {
      "cell_type": "markdown",
      "source": [
        "### データセットの前処理"
      ],
      "metadata": {
        "id": "pri_XBM90odB"
      }
    },
    {
      "cell_type": "markdown",
      "source": [
        "`RandomNodeSplit`を利用して、ネットワーク中のノードを学習データとテストデータに分割します。\n",
        "分割された結果として得られる`splitted_data`の`train_mask`や`test_mask`で学習データとテストデータの区別ができます。"
      ],
      "metadata": {
        "id": "IyrcT_th2NPl"
      }
    },
    {
      "cell_type": "code",
      "source": [
        "from torch_geometric.transforms import RandomNodeSplit\n",
        "\n",
        "# ノードを学習データとテストデータに分割\n",
        "node_splitter = RandomNodeSplit(\n",
        "    split=\"train_rest\",  # 分割方法\n",
        "    num_splits=1,        # 分割数\n",
        "    num_val=0.0,         # 検証データの割合\n",
        "    num_test=0.4,        # テストデータの割合\n",
        "    key=\"y\",             # 正解データの属性名\n",
        ")\n",
        "splitted_data = node_splitter(dataset._data)\n",
        "print(splitted_data.node_attrs())\n",
        "print(splitted_data.train_mask)\n",
        "print(splitted_data.test_mask)"
      ],
      "metadata": {
        "colab": {
          "base_uri": "https://localhost:8080/"
        },
        "id": "w2kUdz8PoZq8",
        "outputId": "bbefe7fb-b4a1-45e0-e1f4-6a88d413ee07"
      },
      "execution_count": 3,
      "outputs": [
        {
          "output_type": "stream",
          "name": "stdout",
          "text": [
            "['test_mask', 'val_mask', 'y', 'train_mask', 'x']\n",
            "tensor([ True,  True,  True,  ..., False,  True, False])\n",
            "tensor([False, False, False,  ...,  True, False,  True])\n"
          ]
        }
      ]
    },
    {
      "cell_type": "markdown",
      "source": [
        "## 6.8.1 GNN による論文の技術領域の分類"
      ],
      "metadata": {
        "id": "hfbCGzHcoem7"
      }
    },
    {
      "cell_type": "markdown",
      "source": [
        "まずは、GCNによるノード分類モデルを構築します。PyTorch Geometricで用意されている`GCNConv`をフィルタとして用いることで、容易にモデルの実装が可能です。"
      ],
      "metadata": {
        "id": "O-CGaTaY3hOB"
      }
    },
    {
      "cell_type": "code",
      "source": [
        "import torch\n",
        "import torch.nn.functional as F\n",
        "from torch_geometric.data import Data\n",
        "from torch_geometric.nn import GCNConv, Sequential\n",
        "\n",
        "\n",
        "# GCNモデルの定義\n",
        "class GCN(torch.nn.Module):\n",
        "    def __init__(\n",
        "        self,\n",
        "        num_node_features: int,  # 入力層の次元数 = ノードの特徴量の次元数\n",
        "        projection_dim: int,     # 中間層の次元数\n",
        "        num_classes: int,        # 出力層の次元数 = 分類先のクラス数\n",
        "    ) -> None:\n",
        "        super().__init__()\n",
        "        self.conv1 = GCNConv(num_node_features, projection_dim)\n",
        "        self.conv2 = GCNConv(projection_dim, num_classes)\n",
        "\n",
        "    def forward(self, data: Data) -> torch.Tensor:\n",
        "        x, edge_index = data.x, data.edge_index\n",
        "        x = self.conv1(x, edge_index)\n",
        "        x = F.relu(x)\n",
        "        x = F.dropout(x, training=self.training)\n",
        "        x = self.conv2(x, edge_index)\n",
        "\n",
        "        return F.log_softmax(x, dim=1)"
      ],
      "metadata": {
        "id": "Oh80fePsoazL"
      },
      "execution_count": 5,
      "outputs": []
    },
    {
      "cell_type": "code",
      "source": [
        "# GCNモデルのインスタンス化\n",
        "device = \"cuda\" if torch.cuda.is_available() else \"cpu\"\n",
        "gcn_model = GCN(\n",
        "    num_node_features=dataset.num_node_features,\n",
        "    projection_dim=64,\n",
        "    num_classes=dataset.num_classes,\n",
        ").to(device)\n",
        "\n",
        "# 最適化アルゴリズムの選択\n",
        "gcn_optimizer = torch.optim.Adam(list(gcn_model.parameters()), lr=0.01)"
      ],
      "metadata": {
        "id": "e15B4MKoofrD"
      },
      "execution_count": 6,
      "outputs": []
    },
    {
      "cell_type": "markdown",
      "source": [
        "学習を行います。`GCN`をインスタンス化した`gcn_model`にPyTorch Geometricの`Data`オブジェクトを入力すると、各ノードの予測ラベルが出力されます。ここでは、`train_mask`で学習用のデータに限定して交差エントロピーを計算して誤差逆伝播によりパラメータを更新していきます。\n",
        "\n",
        "またここでは、200エポック学習を行うこととします。"
      ],
      "metadata": {
        "id": "j6QLUnI732b1"
      }
    },
    {
      "cell_type": "code",
      "source": [
        "from tqdm import tqdm\n",
        "\n",
        "\n",
        "# GCNの学習を行う関数の定義\n",
        "def train_gcn() -> float:\n",
        "    gcn_model.train()\n",
        "    total_loss = 0.0\n",
        "    gcn_optimizer.zero_grad()\n",
        "    out = gcn_model(splitted_data)\n",
        "    loss = F.cross_entropy(\n",
        "        out[splitted_data.train_mask],\n",
        "        splitted_data.y[splitted_data.train_mask],\n",
        "    )\n",
        "    loss.backward()\n",
        "    gcn_optimizer.step()\n",
        "    return loss.item()\n",
        "\n",
        "\n",
        "# GCNの学習の実行\n",
        "for epoch in tqdm(range(200)):\n",
        "    loss = train_gcn()\n",
        "    print(f\"train loss : {loss:.4f}\")"
      ],
      "metadata": {
        "colab": {
          "base_uri": "https://localhost:8080/"
        },
        "id": "qsWF-UCdoh9w",
        "outputId": "86379a07-da87-43f5-901f-cd3499f6bc90",
        "collapsed": true
      },
      "execution_count": 7,
      "outputs": [
        {
          "output_type": "stream",
          "name": "stderr",
          "text": [
            "  2%|▏         | 4/200 [00:00<00:13, 14.76it/s]"
          ]
        },
        {
          "output_type": "stream",
          "name": "stdout",
          "text": [
            "train loss : 1.9430\n",
            "train loss : 1.7193\n",
            "train loss : 1.5035\n",
            "train loss : 1.2935\n"
          ]
        },
        {
          "output_type": "stream",
          "name": "stderr",
          "text": [
            "  4%|▍         | 8/200 [00:00<00:11, 16.35it/s]"
          ]
        },
        {
          "output_type": "stream",
          "name": "stdout",
          "text": [
            "train loss : 1.0957\n",
            "train loss : 0.9162\n",
            "train loss : 0.7769\n",
            "train loss : 0.6643\n"
          ]
        },
        {
          "output_type": "stream",
          "name": "stderr",
          "text": [
            "  6%|▌         | 12/200 [00:00<00:10, 17.25it/s]"
          ]
        },
        {
          "output_type": "stream",
          "name": "stdout",
          "text": [
            "train loss : 0.5580\n",
            "train loss : 0.4853\n",
            "train loss : 0.4152\n",
            "train loss : 0.3730\n"
          ]
        },
        {
          "output_type": "stream",
          "name": "stderr",
          "text": [
            "  9%|▉         | 18/200 [00:00<00:08, 22.45it/s]"
          ]
        },
        {
          "output_type": "stream",
          "name": "stdout",
          "text": [
            "train loss : 0.3238\n",
            "train loss : 0.3053\n",
            "train loss : 0.2753\n",
            "train loss : 0.2548\n",
            "train loss : 0.2381\n",
            "train loss : 0.2213\n"
          ]
        },
        {
          "output_type": "stream",
          "name": "stderr",
          "text": [
            " 12%|█▏        | 24/200 [00:01<00:07, 24.28it/s]"
          ]
        },
        {
          "output_type": "stream",
          "name": "stdout",
          "text": [
            "train loss : 0.2180\n",
            "train loss : 0.2083\n",
            "train loss : 0.1974\n",
            "train loss : 0.1870\n",
            "train loss : 0.1743\n",
            "train loss : 0.1552\n"
          ]
        },
        {
          "output_type": "stream",
          "name": "stderr",
          "text": [
            " 15%|█▌        | 30/200 [00:01<00:06, 25.10it/s]"
          ]
        },
        {
          "output_type": "stream",
          "name": "stdout",
          "text": [
            "train loss : 0.1650\n",
            "train loss : 0.1585\n",
            "train loss : 0.1521\n",
            "train loss : 0.1434\n",
            "train loss : 0.1323\n",
            "train loss : 0.1395\n"
          ]
        },
        {
          "output_type": "stream",
          "name": "stderr",
          "text": [
            " 18%|█▊        | 36/200 [00:01<00:06, 26.20it/s]"
          ]
        },
        {
          "output_type": "stream",
          "name": "stdout",
          "text": [
            "train loss : 0.1274\n",
            "train loss : 0.1223\n",
            "train loss : 0.1092\n",
            "train loss : 0.1049\n",
            "train loss : 0.1044\n",
            "train loss : 0.1050\n"
          ]
        },
        {
          "output_type": "stream",
          "name": "stderr",
          "text": [
            " 21%|██        | 42/200 [00:01<00:05, 26.56it/s]"
          ]
        },
        {
          "output_type": "stream",
          "name": "stdout",
          "text": [
            "train loss : 0.1031\n",
            "train loss : 0.0953\n",
            "train loss : 0.1025\n",
            "train loss : 0.0971\n",
            "train loss : 0.0982\n",
            "train loss : 0.0883\n"
          ]
        },
        {
          "output_type": "stream",
          "name": "stderr",
          "text": [
            " 24%|██▍       | 48/200 [00:02<00:05, 26.08it/s]"
          ]
        },
        {
          "output_type": "stream",
          "name": "stdout",
          "text": [
            "train loss : 0.0824\n",
            "train loss : 0.0867\n",
            "train loss : 0.0814\n",
            "train loss : 0.0780\n",
            "train loss : 0.0822\n",
            "train loss : 0.0772\n"
          ]
        },
        {
          "output_type": "stream",
          "name": "stderr",
          "text": [
            " 27%|██▋       | 54/200 [00:02<00:05, 25.43it/s]"
          ]
        },
        {
          "output_type": "stream",
          "name": "stdout",
          "text": [
            "train loss : 0.0758\n",
            "train loss : 0.0749\n",
            "train loss : 0.0718\n",
            "train loss : 0.0666\n",
            "train loss : 0.0672\n",
            "train loss : 0.0652\n"
          ]
        },
        {
          "output_type": "stream",
          "name": "stderr",
          "text": [
            " 30%|███       | 60/200 [00:02<00:05, 26.07it/s]"
          ]
        },
        {
          "output_type": "stream",
          "name": "stdout",
          "text": [
            "train loss : 0.0703\n",
            "train loss : 0.0643\n",
            "train loss : 0.0646\n",
            "train loss : 0.0617\n",
            "train loss : 0.0646\n",
            "train loss : 0.0575\n"
          ]
        },
        {
          "output_type": "stream",
          "name": "stderr",
          "text": [
            " 33%|███▎      | 66/200 [00:02<00:05, 26.51it/s]"
          ]
        },
        {
          "output_type": "stream",
          "name": "stdout",
          "text": [
            "train loss : 0.0617\n",
            "train loss : 0.0567\n",
            "train loss : 0.0560\n",
            "train loss : 0.0550\n",
            "train loss : 0.0555\n",
            "train loss : 0.0610\n"
          ]
        },
        {
          "output_type": "stream",
          "name": "stderr",
          "text": [
            " 36%|███▌      | 72/200 [00:03<00:04, 26.80it/s]"
          ]
        },
        {
          "output_type": "stream",
          "name": "stdout",
          "text": [
            "train loss : 0.0539\n",
            "train loss : 0.0559\n",
            "train loss : 0.0526\n",
            "train loss : 0.0506\n",
            "train loss : 0.0554\n",
            "train loss : 0.0501\n"
          ]
        },
        {
          "output_type": "stream",
          "name": "stderr",
          "text": [
            " 39%|███▉      | 78/200 [00:03<00:04, 26.32it/s]"
          ]
        },
        {
          "output_type": "stream",
          "name": "stdout",
          "text": [
            "train loss : 0.0494\n",
            "train loss : 0.0472\n",
            "train loss : 0.0462\n",
            "train loss : 0.0482\n",
            "train loss : 0.0449\n",
            "train loss : 0.0458\n"
          ]
        },
        {
          "output_type": "stream",
          "name": "stderr",
          "text": [
            " 42%|████▏     | 84/200 [00:03<00:04, 26.09it/s]"
          ]
        },
        {
          "output_type": "stream",
          "name": "stdout",
          "text": [
            "train loss : 0.0446\n",
            "train loss : 0.0422\n",
            "train loss : 0.0403\n",
            "train loss : 0.0410\n",
            "train loss : 0.0434\n",
            "train loss : 0.0418\n"
          ]
        },
        {
          "output_type": "stream",
          "name": "stderr",
          "text": [
            " 45%|████▌     | 90/200 [00:03<00:04, 26.84it/s]"
          ]
        },
        {
          "output_type": "stream",
          "name": "stdout",
          "text": [
            "train loss : 0.0409\n",
            "train loss : 0.0383\n",
            "train loss : 0.0397\n",
            "train loss : 0.0375\n",
            "train loss : 0.0389\n",
            "train loss : 0.0406\n"
          ]
        },
        {
          "output_type": "stream",
          "name": "stderr",
          "text": [
            " 48%|████▊     | 96/200 [00:03<00:03, 26.82it/s]"
          ]
        },
        {
          "output_type": "stream",
          "name": "stdout",
          "text": [
            "train loss : 0.0382\n",
            "train loss : 0.0395\n",
            "train loss : 0.0394\n",
            "train loss : 0.0371\n",
            "train loss : 0.0381\n",
            "train loss : 0.0371\n"
          ]
        },
        {
          "output_type": "stream",
          "name": "stderr",
          "text": [
            " 51%|█████     | 102/200 [00:04<00:03, 26.30it/s]"
          ]
        },
        {
          "output_type": "stream",
          "name": "stdout",
          "text": [
            "train loss : 0.0353\n",
            "train loss : 0.0399\n",
            "train loss : 0.0332\n",
            "train loss : 0.0375\n",
            "train loss : 0.0394\n",
            "train loss : 0.0353\n"
          ]
        },
        {
          "output_type": "stream",
          "name": "stderr",
          "text": [
            " 54%|█████▍    | 108/200 [00:04<00:03, 25.69it/s]"
          ]
        },
        {
          "output_type": "stream",
          "name": "stdout",
          "text": [
            "train loss : 0.0345\n",
            "train loss : 0.0333\n",
            "train loss : 0.0326\n",
            "train loss : 0.0326\n",
            "train loss : 0.0346\n",
            "train loss : 0.0304\n"
          ]
        },
        {
          "output_type": "stream",
          "name": "stderr",
          "text": [
            " 57%|█████▋    | 114/200 [00:04<00:03, 26.03it/s]"
          ]
        },
        {
          "output_type": "stream",
          "name": "stdout",
          "text": [
            "train loss : 0.0327\n",
            "train loss : 0.0309\n",
            "train loss : 0.0325\n",
            "train loss : 0.0310\n",
            "train loss : 0.0324\n",
            "train loss : 0.0319\n"
          ]
        },
        {
          "output_type": "stream",
          "name": "stderr",
          "text": [
            " 60%|██████    | 120/200 [00:04<00:03, 26.14it/s]"
          ]
        },
        {
          "output_type": "stream",
          "name": "stdout",
          "text": [
            "train loss : 0.0305\n",
            "train loss : 0.0300\n",
            "train loss : 0.0275\n",
            "train loss : 0.0300\n",
            "train loss : 0.0313\n",
            "train loss : 0.0284\n"
          ]
        },
        {
          "output_type": "stream",
          "name": "stderr",
          "text": [
            " 63%|██████▎   | 126/200 [00:05<00:02, 25.63it/s]"
          ]
        },
        {
          "output_type": "stream",
          "name": "stdout",
          "text": [
            "train loss : 0.0315\n",
            "train loss : 0.0293\n",
            "train loss : 0.0299\n",
            "train loss : 0.0284\n",
            "train loss : 0.0272\n",
            "train loss : 0.0277\n"
          ]
        },
        {
          "output_type": "stream",
          "name": "stderr",
          "text": [
            "\r 64%|██████▍   | 129/200 [00:05<00:02, 25.00it/s]"
          ]
        },
        {
          "output_type": "stream",
          "name": "stdout",
          "text": [
            "train loss : 0.0239\n",
            "train loss : 0.0290\n",
            "train loss : 0.0251\n",
            "train loss : 0.0252\n",
            "train loss : 0.0301\n"
          ]
        },
        {
          "output_type": "stream",
          "name": "stderr",
          "text": [
            " 68%|██████▊   | 135/200 [00:05<00:02, 24.65it/s]"
          ]
        },
        {
          "output_type": "stream",
          "name": "stdout",
          "text": [
            "train loss : 0.0265\n",
            "train loss : 0.0282\n",
            "train loss : 0.0239\n",
            "train loss : 0.0277\n",
            "train loss : 0.0248\n",
            "train loss : 0.0239\n"
          ]
        },
        {
          "output_type": "stream",
          "name": "stderr",
          "text": [
            " 70%|███████   | 141/200 [00:05<00:02, 25.91it/s]"
          ]
        },
        {
          "output_type": "stream",
          "name": "stdout",
          "text": [
            "train loss : 0.0245\n",
            "train loss : 0.0223\n",
            "train loss : 0.0238\n",
            "train loss : 0.0252\n",
            "train loss : 0.0230\n",
            "train loss : 0.0232\n"
          ]
        },
        {
          "output_type": "stream",
          "name": "stderr",
          "text": [
            " 74%|███████▎  | 147/200 [00:05<00:01, 26.64it/s]"
          ]
        },
        {
          "output_type": "stream",
          "name": "stdout",
          "text": [
            "train loss : 0.0213\n",
            "train loss : 0.0231\n",
            "train loss : 0.0211\n",
            "train loss : 0.0226\n",
            "train loss : 0.0211\n",
            "train loss : 0.0218\n"
          ]
        },
        {
          "output_type": "stream",
          "name": "stderr",
          "text": [
            " 76%|███████▋  | 153/200 [00:06<00:01, 26.27it/s]"
          ]
        },
        {
          "output_type": "stream",
          "name": "stdout",
          "text": [
            "train loss : 0.0226\n",
            "train loss : 0.0212\n",
            "train loss : 0.0208\n",
            "train loss : 0.0230\n",
            "train loss : 0.0210\n",
            "train loss : 0.0232\n"
          ]
        },
        {
          "output_type": "stream",
          "name": "stderr",
          "text": [
            " 80%|███████▉  | 159/200 [00:06<00:01, 26.43it/s]"
          ]
        },
        {
          "output_type": "stream",
          "name": "stdout",
          "text": [
            "train loss : 0.0217\n",
            "train loss : 0.0189\n",
            "train loss : 0.0190\n",
            "train loss : 0.0223\n",
            "train loss : 0.0202\n",
            "train loss : 0.0203\n"
          ]
        },
        {
          "output_type": "stream",
          "name": "stderr",
          "text": [
            " 82%|████████▎ | 165/200 [00:06<00:01, 26.27it/s]"
          ]
        },
        {
          "output_type": "stream",
          "name": "stdout",
          "text": [
            "train loss : 0.0215\n",
            "train loss : 0.0191\n",
            "train loss : 0.0209\n",
            "train loss : 0.0201\n",
            "train loss : 0.0168\n",
            "train loss : 0.0207\n"
          ]
        },
        {
          "output_type": "stream",
          "name": "stderr",
          "text": [
            " 86%|████████▌ | 171/200 [00:06<00:01, 26.57it/s]"
          ]
        },
        {
          "output_type": "stream",
          "name": "stdout",
          "text": [
            "train loss : 0.0206\n",
            "train loss : 0.0201\n",
            "train loss : 0.0168\n",
            "train loss : 0.0193\n",
            "train loss : 0.0180\n",
            "train loss : 0.0200\n"
          ]
        },
        {
          "output_type": "stream",
          "name": "stderr",
          "text": [
            " 88%|████████▊ | 177/200 [00:07<00:00, 26.84it/s]"
          ]
        },
        {
          "output_type": "stream",
          "name": "stdout",
          "text": [
            "train loss : 0.0195\n",
            "train loss : 0.0203\n",
            "train loss : 0.0190\n",
            "train loss : 0.0209\n",
            "train loss : 0.0187\n",
            "train loss : 0.0171\n"
          ]
        },
        {
          "output_type": "stream",
          "name": "stderr",
          "text": [
            " 92%|█████████▏| 183/200 [00:07<00:00, 26.50it/s]"
          ]
        },
        {
          "output_type": "stream",
          "name": "stdout",
          "text": [
            "train loss : 0.0170\n",
            "train loss : 0.0189\n",
            "train loss : 0.0165\n",
            "train loss : 0.0174\n",
            "train loss : 0.0194\n",
            "train loss : 0.0177\n"
          ]
        },
        {
          "output_type": "stream",
          "name": "stderr",
          "text": [
            " 94%|█████████▍| 189/200 [00:07<00:00, 25.94it/s]"
          ]
        },
        {
          "output_type": "stream",
          "name": "stdout",
          "text": [
            "train loss : 0.0168\n",
            "train loss : 0.0157\n",
            "train loss : 0.0167\n",
            "train loss : 0.0145\n",
            "train loss : 0.0162\n",
            "train loss : 0.0167\n"
          ]
        },
        {
          "output_type": "stream",
          "name": "stderr",
          "text": [
            " 98%|█████████▊| 195/200 [00:07<00:00, 26.63it/s]"
          ]
        },
        {
          "output_type": "stream",
          "name": "stdout",
          "text": [
            "train loss : 0.0154\n",
            "train loss : 0.0159\n",
            "train loss : 0.0152\n",
            "train loss : 0.0180\n",
            "train loss : 0.0166\n",
            "train loss : 0.0156\n"
          ]
        },
        {
          "output_type": "stream",
          "name": "stderr",
          "text": [
            "100%|██████████| 200/200 [00:07<00:00, 25.29it/s]"
          ]
        },
        {
          "output_type": "stream",
          "name": "stdout",
          "text": [
            "train loss : 0.0159\n",
            "train loss : 0.0178\n",
            "train loss : 0.0160\n"
          ]
        },
        {
          "output_type": "stream",
          "name": "stderr",
          "text": [
            "\n"
          ]
        }
      ]
    },
    {
      "cell_type": "markdown",
      "source": [
        "scikit-learnの`classification_report`を用いて、分類性能を出力します。\n",
        "学習時とは対照的に、`test_mask`でテストデータに限定をしてから性能評価を行う関数に入力します。"
      ],
      "metadata": {
        "id": "dY4dFjDf4iIF"
      }
    },
    {
      "cell_type": "code",
      "source": [
        "from sklearn.metrics import classification_report\n",
        "\n",
        "y_true = splitted_data.y[splitted_data.test_mask].numpy()\n",
        "\n",
        "# 評価データに対する推論\n",
        "with torch.no_grad():\n",
        "    gcn_model.eval()\n",
        "    out = gcn_model(splitted_data)\n",
        "    y_pred = out.argmax(dim=1)[splitted_data.test_mask]\n",
        "\n",
        "# 評価結果の表示\n",
        "print(classification_report(y_true, y_pred))"
      ],
      "metadata": {
        "colab": {
          "base_uri": "https://localhost:8080/"
        },
        "id": "FzlT8aSmok82",
        "outputId": "01a55ed2-0f2d-4bb8-9b8b-18bce420ceea"
      },
      "execution_count": 8,
      "outputs": [
        {
          "output_type": "stream",
          "name": "stdout",
          "text": [
            "              precision    recall  f1-score   support\n",
            "\n",
            "           0       0.72      0.81      0.76       144\n",
            "           1       0.89      0.72      0.80        92\n",
            "           2       0.90      0.94      0.92       163\n",
            "           3       0.90      0.88      0.89       325\n",
            "           4       0.88      0.87      0.87       171\n",
            "           5       0.82      0.86      0.84       123\n",
            "           6       0.87      0.80      0.83        65\n",
            "\n",
            "    accuracy                           0.86      1083\n",
            "   macro avg       0.85      0.84      0.84      1083\n",
            "weighted avg       0.86      0.86      0.86      1083\n",
            "\n"
          ]
        }
      ]
    },
    {
      "cell_type": "markdown",
      "source": [
        "## 6.8.2 フィルタの差し替え"
      ],
      "metadata": {
        "id": "6zE5s-zJp0-h"
      }
    },
    {
      "cell_type": "markdown",
      "source": [
        "GCNをGraphSAGEに差し替えて学習と評価を行います。基本的な操作としては、これまで`GCNConv`としてた箇所を`SAGEConv`に置き換えるのみです。"
      ],
      "metadata": {
        "id": "KTYwFN2h5CRA"
      }
    },
    {
      "cell_type": "code",
      "source": [
        "from torch_geometric.nn import SAGEConv\n",
        "\n",
        "\n",
        "# GraphSAGEモデルの定義\n",
        "class GraphSAGE(torch.nn.Module):\n",
        "\n",
        "    def __init__(\n",
        "        self,\n",
        "        num_node_features: int,  # 入力層の次元数 = ノードの特徴量の次元数\n",
        "        projection_dim: int,     # 中間層の次元数\n",
        "        num_classes: int,        # 出力層の次元数 = 分類先のクラス数\n",
        "    ) -> None:\n",
        "        super().__init__()\n",
        "        self.conv1 = SAGEConv(num_node_features, projection_dim)\n",
        "        self.conv2 = SAGEConv(projection_dim, num_classes)\n",
        "\n",
        "    def forward(self, data: Data) -> torch.Tensor:\n",
        "        x, edge_index = data.x, data.edge_index\n",
        "        x = self.conv1(x, edge_index)\n",
        "        x = F.relu(x)\n",
        "        x = F.dropout(x, training=self.training)\n",
        "        x = self.conv2(x, edge_index)\n",
        "\n",
        "        return F.log_softmax(x, dim=1)"
      ],
      "metadata": {
        "id": "DXkzM0alp3Fj"
      },
      "execution_count": 9,
      "outputs": []
    },
    {
      "cell_type": "code",
      "source": [
        "# GraphSAGEモデルのインスタンス化\n",
        "device = \"cuda\" if torch.cuda.is_available() else \"cpu\"\n",
        "sage_model = GraphSAGE(\n",
        "    num_node_features=dataset.num_node_features,\n",
        "    projection_dim=64,\n",
        "    num_classes=dataset.num_classes,\n",
        ").to(device)\n",
        "sage_optimizer = torch.optim.Adam(list(sage_model.parameters()), lr=0.01)"
      ],
      "metadata": {
        "id": "85EBkU9HqBPp"
      },
      "execution_count": 10,
      "outputs": []
    },
    {
      "cell_type": "code",
      "source": [
        "# GraphSAGEモデルの学習を行う関数の定義\n",
        "def train_sage() -> float:\n",
        "    sage_model.train()\n",
        "    total_loss = 0\n",
        "    sage_optimizer.zero_grad()\n",
        "    out = sage_model(splitted_data)\n",
        "    loss = F.cross_entropy(\n",
        "        out[splitted_data.train_mask],\n",
        "        splitted_data.y[splitted_data.train_mask],\n",
        "    )\n",
        "    loss.backward()\n",
        "    sage_optimizer.step()\n",
        "    return loss.item()\n",
        "\n",
        "\n",
        "# GraphSAGEモデルの学習の実行\n",
        "for epoch in tqdm(range(1, 201)):\n",
        "    loss = train_sage()\n",
        "    print(f\"train loss : {loss:.4f}\")\n"
      ],
      "metadata": {
        "colab": {
          "base_uri": "https://localhost:8080/"
        },
        "id": "3m9sV6_WqDnK",
        "outputId": "f89f7555-2b49-49dc-e34d-231f3c263adb"
      },
      "execution_count": 11,
      "outputs": [
        {
          "output_type": "stream",
          "name": "stderr",
          "text": [
            "  1%|          | 2/200 [00:00<00:30,  6.39it/s]"
          ]
        },
        {
          "output_type": "stream",
          "name": "stdout",
          "text": [
            "train loss : 1.9407\n",
            "train loss : 1.6494\n"
          ]
        },
        {
          "output_type": "stream",
          "name": "stderr",
          "text": [
            "  2%|▏         | 4/200 [00:00<00:26,  7.28it/s]"
          ]
        },
        {
          "output_type": "stream",
          "name": "stdout",
          "text": [
            "train loss : 1.3409\n",
            "train loss : 1.0254\n"
          ]
        },
        {
          "output_type": "stream",
          "name": "stderr",
          "text": [
            "  3%|▎         | 6/200 [00:00<00:25,  7.72it/s]"
          ]
        },
        {
          "output_type": "stream",
          "name": "stdout",
          "text": [
            "train loss : 0.7893\n",
            "train loss : 0.5785\n"
          ]
        },
        {
          "output_type": "stream",
          "name": "stderr",
          "text": [
            "  4%|▍         | 8/200 [00:01<00:24,  7.75it/s]"
          ]
        },
        {
          "output_type": "stream",
          "name": "stdout",
          "text": [
            "train loss : 0.4253\n",
            "train loss : 0.3406\n"
          ]
        },
        {
          "output_type": "stream",
          "name": "stderr",
          "text": [
            "  5%|▌         | 10/200 [00:01<00:23,  8.07it/s]"
          ]
        },
        {
          "output_type": "stream",
          "name": "stdout",
          "text": [
            "train loss : 0.2677\n",
            "train loss : 0.2184\n"
          ]
        },
        {
          "output_type": "stream",
          "name": "stderr",
          "text": [
            "  6%|▌         | 12/200 [00:01<00:23,  8.16it/s]"
          ]
        },
        {
          "output_type": "stream",
          "name": "stdout",
          "text": [
            "train loss : 0.1965\n",
            "train loss : 0.1480\n"
          ]
        },
        {
          "output_type": "stream",
          "name": "stderr",
          "text": [
            "  7%|▋         | 14/200 [00:01<00:23,  8.05it/s]"
          ]
        },
        {
          "output_type": "stream",
          "name": "stdout",
          "text": [
            "train loss : 0.1382\n",
            "train loss : 0.1085\n"
          ]
        },
        {
          "output_type": "stream",
          "name": "stderr",
          "text": [
            "  8%|▊         | 16/200 [00:02<00:23,  7.99it/s]"
          ]
        },
        {
          "output_type": "stream",
          "name": "stdout",
          "text": [
            "train loss : 0.0985\n",
            "train loss : 0.1004\n"
          ]
        },
        {
          "output_type": "stream",
          "name": "stderr",
          "text": [
            "  9%|▉         | 18/200 [00:02<00:22,  7.98it/s]"
          ]
        },
        {
          "output_type": "stream",
          "name": "stdout",
          "text": [
            "train loss : 0.0816\n",
            "train loss : 0.0748\n"
          ]
        },
        {
          "output_type": "stream",
          "name": "stderr",
          "text": [
            " 10%|█         | 20/200 [00:02<00:22,  8.03it/s]"
          ]
        },
        {
          "output_type": "stream",
          "name": "stdout",
          "text": [
            "train loss : 0.0593\n",
            "train loss : 0.0502\n"
          ]
        },
        {
          "output_type": "stream",
          "name": "stderr",
          "text": [
            " 11%|█         | 22/200 [00:02<00:22,  8.07it/s]"
          ]
        },
        {
          "output_type": "stream",
          "name": "stdout",
          "text": [
            "train loss : 0.0488\n",
            "train loss : 0.0448\n"
          ]
        },
        {
          "output_type": "stream",
          "name": "stderr",
          "text": [
            " 12%|█▏        | 24/200 [00:03<00:22,  7.85it/s]"
          ]
        },
        {
          "output_type": "stream",
          "name": "stdout",
          "text": [
            "train loss : 0.0407\n",
            "train loss : 0.0320\n"
          ]
        },
        {
          "output_type": "stream",
          "name": "stderr",
          "text": [
            " 13%|█▎        | 26/200 [00:03<00:21,  7.92it/s]"
          ]
        },
        {
          "output_type": "stream",
          "name": "stdout",
          "text": [
            "train loss : 0.0301\n",
            "train loss : 0.0287\n"
          ]
        },
        {
          "output_type": "stream",
          "name": "stderr",
          "text": [
            " 14%|█▍        | 28/200 [00:03<00:21,  7.92it/s]"
          ]
        },
        {
          "output_type": "stream",
          "name": "stdout",
          "text": [
            "train loss : 0.0229\n",
            "train loss : 0.0207\n"
          ]
        },
        {
          "output_type": "stream",
          "name": "stderr",
          "text": [
            " 15%|█▌        | 30/200 [00:03<00:21,  8.01it/s]"
          ]
        },
        {
          "output_type": "stream",
          "name": "stdout",
          "text": [
            "train loss : 0.0178\n",
            "train loss : 0.0189\n"
          ]
        },
        {
          "output_type": "stream",
          "name": "stderr",
          "text": [
            " 16%|█▌        | 32/200 [00:04<00:21,  7.67it/s]"
          ]
        },
        {
          "output_type": "stream",
          "name": "stdout",
          "text": [
            "train loss : 0.0166\n",
            "train loss : 0.0129\n"
          ]
        },
        {
          "output_type": "stream",
          "name": "stderr",
          "text": [
            " 17%|█▋        | 34/200 [00:04<00:20,  8.00it/s]"
          ]
        },
        {
          "output_type": "stream",
          "name": "stdout",
          "text": [
            "train loss : 0.0108\n",
            "train loss : 0.0146\n"
          ]
        },
        {
          "output_type": "stream",
          "name": "stderr",
          "text": [
            " 18%|█▊        | 36/200 [00:04<00:20,  8.11it/s]"
          ]
        },
        {
          "output_type": "stream",
          "name": "stdout",
          "text": [
            "train loss : 0.0109\n",
            "train loss : 0.0113\n"
          ]
        },
        {
          "output_type": "stream",
          "name": "stderr",
          "text": [
            " 19%|█▉        | 38/200 [00:04<00:20,  8.03it/s]"
          ]
        },
        {
          "output_type": "stream",
          "name": "stdout",
          "text": [
            "train loss : 0.0135\n",
            "train loss : 0.0067\n"
          ]
        },
        {
          "output_type": "stream",
          "name": "stderr",
          "text": [
            " 20%|██        | 40/200 [00:05<00:20,  7.97it/s]"
          ]
        },
        {
          "output_type": "stream",
          "name": "stdout",
          "text": [
            "train loss : 0.0079\n",
            "train loss : 0.0073\n"
          ]
        },
        {
          "output_type": "stream",
          "name": "stderr",
          "text": [
            " 21%|██        | 42/200 [00:05<00:20,  7.80it/s]"
          ]
        },
        {
          "output_type": "stream",
          "name": "stdout",
          "text": [
            "train loss : 0.0066\n",
            "train loss : 0.0058\n"
          ]
        },
        {
          "output_type": "stream",
          "name": "stderr",
          "text": [
            " 22%|██▏       | 44/200 [00:05<00:19,  7.95it/s]"
          ]
        },
        {
          "output_type": "stream",
          "name": "stdout",
          "text": [
            "train loss : 0.0050\n",
            "train loss : 0.0063\n"
          ]
        },
        {
          "output_type": "stream",
          "name": "stderr",
          "text": [
            " 23%|██▎       | 46/200 [00:05<00:18,  8.24it/s]"
          ]
        },
        {
          "output_type": "stream",
          "name": "stdout",
          "text": [
            "train loss : 0.0065\n",
            "train loss : 0.0065\n"
          ]
        },
        {
          "output_type": "stream",
          "name": "stderr",
          "text": [
            " 24%|██▍       | 48/200 [00:06<00:19,  7.92it/s]"
          ]
        },
        {
          "output_type": "stream",
          "name": "stdout",
          "text": [
            "train loss : 0.0067\n",
            "train loss : 0.0069\n"
          ]
        },
        {
          "output_type": "stream",
          "name": "stderr",
          "text": [
            " 25%|██▌       | 50/200 [00:06<00:21,  7.02it/s]"
          ]
        },
        {
          "output_type": "stream",
          "name": "stdout",
          "text": [
            "train loss : 0.0056\n",
            "train loss : 0.0044\n"
          ]
        },
        {
          "output_type": "stream",
          "name": "stderr",
          "text": [
            "\r 26%|██▌       | 51/200 [00:06<00:24,  6.04it/s]"
          ]
        },
        {
          "output_type": "stream",
          "name": "stdout",
          "text": [
            "train loss : 0.0040\n"
          ]
        },
        {
          "output_type": "stream",
          "name": "stderr",
          "text": [
            "\r 26%|██▌       | 52/200 [00:06<00:27,  5.42it/s]"
          ]
        },
        {
          "output_type": "stream",
          "name": "stdout",
          "text": [
            "train loss : 0.0052\n"
          ]
        },
        {
          "output_type": "stream",
          "name": "stderr",
          "text": [
            "\r 26%|██▋       | 53/200 [00:07<00:28,  5.20it/s]"
          ]
        },
        {
          "output_type": "stream",
          "name": "stdout",
          "text": [
            "train loss : 0.0055\n"
          ]
        },
        {
          "output_type": "stream",
          "name": "stderr",
          "text": [
            "\r 27%|██▋       | 54/200 [00:07<00:28,  5.11it/s]"
          ]
        },
        {
          "output_type": "stream",
          "name": "stdout",
          "text": [
            "train loss : 0.0041\n"
          ]
        },
        {
          "output_type": "stream",
          "name": "stderr",
          "text": [
            "\r 28%|██▊       | 55/200 [00:07<00:33,  4.37it/s]"
          ]
        },
        {
          "output_type": "stream",
          "name": "stdout",
          "text": [
            "train loss : 0.0046\n"
          ]
        },
        {
          "output_type": "stream",
          "name": "stderr",
          "text": [
            "\r 28%|██▊       | 56/200 [00:07<00:35,  4.01it/s]"
          ]
        },
        {
          "output_type": "stream",
          "name": "stdout",
          "text": [
            "train loss : 0.0030\n"
          ]
        },
        {
          "output_type": "stream",
          "name": "stderr",
          "text": [
            "\r 28%|██▊       | 57/200 [00:08<00:38,  3.70it/s]"
          ]
        },
        {
          "output_type": "stream",
          "name": "stdout",
          "text": [
            "train loss : 0.0033\n"
          ]
        },
        {
          "output_type": "stream",
          "name": "stderr",
          "text": [
            "\r 29%|██▉       | 58/200 [00:08<00:45,  3.11it/s]"
          ]
        },
        {
          "output_type": "stream",
          "name": "stdout",
          "text": [
            "train loss : 0.0039\n"
          ]
        },
        {
          "output_type": "stream",
          "name": "stderr",
          "text": [
            "\r 30%|██▉       | 59/200 [00:09<00:52,  2.68it/s]"
          ]
        },
        {
          "output_type": "stream",
          "name": "stdout",
          "text": [
            "train loss : 0.0034\n"
          ]
        },
        {
          "output_type": "stream",
          "name": "stderr",
          "text": [
            "\r 30%|███       | 60/200 [00:09<01:02,  2.25it/s]"
          ]
        },
        {
          "output_type": "stream",
          "name": "stdout",
          "text": [
            "train loss : 0.0034\n"
          ]
        },
        {
          "output_type": "stream",
          "name": "stderr",
          "text": [
            "\r 30%|███       | 61/200 [00:10<01:00,  2.30it/s]"
          ]
        },
        {
          "output_type": "stream",
          "name": "stdout",
          "text": [
            "train loss : 0.0038\n"
          ]
        },
        {
          "output_type": "stream",
          "name": "stderr",
          "text": [
            "\r 31%|███       | 62/200 [00:10<01:01,  2.26it/s]"
          ]
        },
        {
          "output_type": "stream",
          "name": "stdout",
          "text": [
            "train loss : 0.0033\n"
          ]
        },
        {
          "output_type": "stream",
          "name": "stderr",
          "text": [
            "\r 32%|███▏      | 63/200 [00:11<01:02,  2.20it/s]"
          ]
        },
        {
          "output_type": "stream",
          "name": "stdout",
          "text": [
            "train loss : 0.0022\n"
          ]
        },
        {
          "output_type": "stream",
          "name": "stderr",
          "text": [
            "\r 32%|███▏      | 64/200 [00:11<01:00,  2.23it/s]"
          ]
        },
        {
          "output_type": "stream",
          "name": "stdout",
          "text": [
            "train loss : 0.0022\n"
          ]
        },
        {
          "output_type": "stream",
          "name": "stderr",
          "text": [
            "\r 32%|███▎      | 65/200 [00:11<00:57,  2.33it/s]"
          ]
        },
        {
          "output_type": "stream",
          "name": "stdout",
          "text": [
            "train loss : 0.0038\n"
          ]
        },
        {
          "output_type": "stream",
          "name": "stderr",
          "text": [
            "\r 33%|███▎      | 66/200 [00:12<00:50,  2.65it/s]"
          ]
        },
        {
          "output_type": "stream",
          "name": "stdout",
          "text": [
            "train loss : 0.0033\n"
          ]
        },
        {
          "output_type": "stream",
          "name": "stderr",
          "text": [
            "\r 34%|███▎      | 67/200 [00:12<00:47,  2.80it/s]"
          ]
        },
        {
          "output_type": "stream",
          "name": "stdout",
          "text": [
            "train loss : 0.0036\n"
          ]
        },
        {
          "output_type": "stream",
          "name": "stderr",
          "text": [
            "\r 34%|███▍      | 68/200 [00:12<00:46,  2.87it/s]"
          ]
        },
        {
          "output_type": "stream",
          "name": "stdout",
          "text": [
            "train loss : 0.0023\n"
          ]
        },
        {
          "output_type": "stream",
          "name": "stderr",
          "text": [
            " 35%|███▌      | 70/200 [00:13<00:37,  3.49it/s]"
          ]
        },
        {
          "output_type": "stream",
          "name": "stdout",
          "text": [
            "train loss : 0.0021\n",
            "train loss : 0.0029\n"
          ]
        },
        {
          "output_type": "stream",
          "name": "stderr",
          "text": [
            "\r 36%|███▌      | 71/200 [00:13<00:36,  3.55it/s]"
          ]
        },
        {
          "output_type": "stream",
          "name": "stdout",
          "text": [
            "train loss : 0.0036\n"
          ]
        },
        {
          "output_type": "stream",
          "name": "stderr",
          "text": [
            "\r 36%|███▌      | 72/200 [00:13<00:35,  3.61it/s]"
          ]
        },
        {
          "output_type": "stream",
          "name": "stdout",
          "text": [
            "train loss : 0.0032\n"
          ]
        },
        {
          "output_type": "stream",
          "name": "stderr",
          "text": [
            "\r 36%|███▋      | 73/200 [00:14<00:32,  3.91it/s]"
          ]
        },
        {
          "output_type": "stream",
          "name": "stdout",
          "text": [
            "train loss : 0.0022\n"
          ]
        },
        {
          "output_type": "stream",
          "name": "stderr",
          "text": [
            "\r 37%|███▋      | 74/200 [00:14<00:30,  4.07it/s]"
          ]
        },
        {
          "output_type": "stream",
          "name": "stdout",
          "text": [
            "train loss : 0.0028\n"
          ]
        },
        {
          "output_type": "stream",
          "name": "stderr",
          "text": [
            "\r 38%|███▊      | 75/200 [00:14<00:30,  4.14it/s]"
          ]
        },
        {
          "output_type": "stream",
          "name": "stdout",
          "text": [
            "train loss : 0.0022\n"
          ]
        },
        {
          "output_type": "stream",
          "name": "stderr",
          "text": [
            "\r 38%|███▊      | 76/200 [00:14<00:32,  3.81it/s]"
          ]
        },
        {
          "output_type": "stream",
          "name": "stdout",
          "text": [
            "train loss : 0.0016\n"
          ]
        },
        {
          "output_type": "stream",
          "name": "stderr",
          "text": [
            "\r 38%|███▊      | 77/200 [00:15<00:30,  4.02it/s]"
          ]
        },
        {
          "output_type": "stream",
          "name": "stdout",
          "text": [
            "train loss : 0.0035\n"
          ]
        },
        {
          "output_type": "stream",
          "name": "stderr",
          "text": [
            " 40%|███▉      | 79/200 [00:15<00:26,  4.49it/s]"
          ]
        },
        {
          "output_type": "stream",
          "name": "stdout",
          "text": [
            "train loss : 0.0021\n",
            "train loss : 0.0020\n"
          ]
        },
        {
          "output_type": "stream",
          "name": "stderr",
          "text": [
            " 40%|████      | 81/200 [00:15<00:25,  4.76it/s]"
          ]
        },
        {
          "output_type": "stream",
          "name": "stdout",
          "text": [
            "train loss : 0.0036\n",
            "train loss : 0.0019\n"
          ]
        },
        {
          "output_type": "stream",
          "name": "stderr",
          "text": [
            " 42%|████▏     | 83/200 [00:16<00:22,  5.15it/s]"
          ]
        },
        {
          "output_type": "stream",
          "name": "stdout",
          "text": [
            "train loss : 0.0022\n",
            "train loss : 0.0017\n"
          ]
        },
        {
          "output_type": "stream",
          "name": "stderr",
          "text": [
            "\r 42%|████▏     | 84/200 [00:16<00:22,  5.21it/s]"
          ]
        },
        {
          "output_type": "stream",
          "name": "stdout",
          "text": [
            "train loss : 0.0024\n"
          ]
        },
        {
          "output_type": "stream",
          "name": "stderr",
          "text": [
            " 43%|████▎     | 86/200 [00:16<00:22,  5.09it/s]"
          ]
        },
        {
          "output_type": "stream",
          "name": "stdout",
          "text": [
            "train loss : 0.0035\n",
            "train loss : 0.0017\n"
          ]
        },
        {
          "output_type": "stream",
          "name": "stderr",
          "text": [
            "\r 44%|████▎     | 87/200 [00:16<00:23,  4.91it/s]"
          ]
        },
        {
          "output_type": "stream",
          "name": "stdout",
          "text": [
            "train loss : 0.0015\n"
          ]
        },
        {
          "output_type": "stream",
          "name": "stderr",
          "text": [
            "\r 44%|████▍     | 88/200 [00:17<00:23,  4.86it/s]"
          ]
        },
        {
          "output_type": "stream",
          "name": "stdout",
          "text": [
            "train loss : 0.0021\n"
          ]
        },
        {
          "output_type": "stream",
          "name": "stderr",
          "text": [
            "\r 44%|████▍     | 89/200 [00:17<00:24,  4.62it/s]"
          ]
        },
        {
          "output_type": "stream",
          "name": "stdout",
          "text": [
            "train loss : 0.0018\n"
          ]
        },
        {
          "output_type": "stream",
          "name": "stderr",
          "text": [
            "\r 45%|████▌     | 90/200 [00:17<00:28,  3.89it/s]"
          ]
        },
        {
          "output_type": "stream",
          "name": "stdout",
          "text": [
            "train loss : 0.0034\n"
          ]
        },
        {
          "output_type": "stream",
          "name": "stderr",
          "text": [
            "\r 46%|████▌     | 91/200 [00:18<00:29,  3.75it/s]"
          ]
        },
        {
          "output_type": "stream",
          "name": "stdout",
          "text": [
            "train loss : 0.0015\n"
          ]
        },
        {
          "output_type": "stream",
          "name": "stderr",
          "text": [
            "\r 46%|████▌     | 92/200 [00:18<00:27,  3.86it/s]"
          ]
        },
        {
          "output_type": "stream",
          "name": "stdout",
          "text": [
            "train loss : 0.0026\n"
          ]
        },
        {
          "output_type": "stream",
          "name": "stderr",
          "text": [
            "\r 46%|████▋     | 93/200 [00:18<00:31,  3.38it/s]"
          ]
        },
        {
          "output_type": "stream",
          "name": "stdout",
          "text": [
            "train loss : 0.0015\n"
          ]
        },
        {
          "output_type": "stream",
          "name": "stderr",
          "text": [
            "\r 47%|████▋     | 94/200 [00:18<00:29,  3.59it/s]"
          ]
        },
        {
          "output_type": "stream",
          "name": "stdout",
          "text": [
            "train loss : 0.0023\n"
          ]
        },
        {
          "output_type": "stream",
          "name": "stderr",
          "text": [
            " 48%|████▊     | 96/200 [00:19<00:26,  3.88it/s]"
          ]
        },
        {
          "output_type": "stream",
          "name": "stdout",
          "text": [
            "train loss : 0.0022\n",
            "train loss : 0.0019\n"
          ]
        },
        {
          "output_type": "stream",
          "name": "stderr",
          "text": [
            "\r 48%|████▊     | 97/200 [00:19<00:28,  3.60it/s]"
          ]
        },
        {
          "output_type": "stream",
          "name": "stdout",
          "text": [
            "train loss : 0.0027\n"
          ]
        },
        {
          "output_type": "stream",
          "name": "stderr",
          "text": [
            "\r 49%|████▉     | 98/200 [00:20<00:30,  3.30it/s]"
          ]
        },
        {
          "output_type": "stream",
          "name": "stdout",
          "text": [
            "train loss : 0.0014\n"
          ]
        },
        {
          "output_type": "stream",
          "name": "stderr",
          "text": [
            "\r 50%|████▉     | 99/200 [00:20<00:28,  3.54it/s]"
          ]
        },
        {
          "output_type": "stream",
          "name": "stdout",
          "text": [
            "train loss : 0.0025\n"
          ]
        },
        {
          "output_type": "stream",
          "name": "stderr",
          "text": [
            "\r 50%|█████     | 100/200 [00:20<00:26,  3.75it/s]"
          ]
        },
        {
          "output_type": "stream",
          "name": "stdout",
          "text": [
            "train loss : 0.0013\n"
          ]
        },
        {
          "output_type": "stream",
          "name": "stderr",
          "text": [
            "\r 50%|█████     | 101/200 [00:20<00:28,  3.45it/s]"
          ]
        },
        {
          "output_type": "stream",
          "name": "stdout",
          "text": [
            "train loss : 0.0014\n"
          ]
        },
        {
          "output_type": "stream",
          "name": "stderr",
          "text": [
            " 52%|█████▏    | 103/200 [00:21<00:27,  3.55it/s]"
          ]
        },
        {
          "output_type": "stream",
          "name": "stdout",
          "text": [
            "train loss : 0.0017\n",
            "train loss : 0.0019\n"
          ]
        },
        {
          "output_type": "stream",
          "name": "stderr",
          "text": [
            "\r 52%|█████▏    | 104/200 [00:21<00:24,  3.85it/s]"
          ]
        },
        {
          "output_type": "stream",
          "name": "stdout",
          "text": [
            "train loss : 0.0023\n"
          ]
        },
        {
          "output_type": "stream",
          "name": "stderr",
          "text": [
            "\r 52%|█████▎    | 105/200 [00:22<00:29,  3.23it/s]"
          ]
        },
        {
          "output_type": "stream",
          "name": "stdout",
          "text": [
            "train loss : 0.0013\n"
          ]
        },
        {
          "output_type": "stream",
          "name": "stderr",
          "text": [
            "\r 53%|█████▎    | 106/200 [00:22<00:30,  3.06it/s]"
          ]
        },
        {
          "output_type": "stream",
          "name": "stdout",
          "text": [
            "train loss : 0.0014\n"
          ]
        },
        {
          "output_type": "stream",
          "name": "stderr",
          "text": [
            "\r 54%|█████▎    | 107/200 [00:23<00:37,  2.47it/s]"
          ]
        },
        {
          "output_type": "stream",
          "name": "stdout",
          "text": [
            "train loss : 0.0014\n"
          ]
        },
        {
          "output_type": "stream",
          "name": "stderr",
          "text": [
            " 55%|█████▍    | 109/200 [00:23<00:27,  3.25it/s]"
          ]
        },
        {
          "output_type": "stream",
          "name": "stdout",
          "text": [
            "train loss : 0.0014\n",
            "train loss : 0.0016\n"
          ]
        },
        {
          "output_type": "stream",
          "name": "stderr",
          "text": [
            " 56%|█████▌    | 111/200 [00:23<00:21,  4.09it/s]"
          ]
        },
        {
          "output_type": "stream",
          "name": "stdout",
          "text": [
            "train loss : 0.0037\n",
            "train loss : 0.0017\n"
          ]
        },
        {
          "output_type": "stream",
          "name": "stderr",
          "text": [
            " 56%|█████▋    | 113/200 [00:24<00:18,  4.79it/s]"
          ]
        },
        {
          "output_type": "stream",
          "name": "stdout",
          "text": [
            "train loss : 0.0012\n",
            "train loss : 0.0010\n"
          ]
        },
        {
          "output_type": "stream",
          "name": "stderr",
          "text": [
            " 57%|█████▊    | 115/200 [00:24<00:16,  5.24it/s]"
          ]
        },
        {
          "output_type": "stream",
          "name": "stdout",
          "text": [
            "train loss : 0.0013\n",
            "train loss : 0.0018\n"
          ]
        },
        {
          "output_type": "stream",
          "name": "stderr",
          "text": [
            " 58%|█████▊    | 117/200 [00:24<00:14,  5.89it/s]"
          ]
        },
        {
          "output_type": "stream",
          "name": "stdout",
          "text": [
            "train loss : 0.0020\n",
            "train loss : 0.0011\n"
          ]
        },
        {
          "output_type": "stream",
          "name": "stderr",
          "text": [
            " 60%|█████▉    | 119/200 [00:25<00:12,  6.64it/s]"
          ]
        },
        {
          "output_type": "stream",
          "name": "stdout",
          "text": [
            "train loss : 0.0014\n",
            "train loss : 0.0012\n"
          ]
        },
        {
          "output_type": "stream",
          "name": "stderr",
          "text": [
            " 60%|██████    | 121/200 [00:25<00:10,  7.40it/s]"
          ]
        },
        {
          "output_type": "stream",
          "name": "stdout",
          "text": [
            "train loss : 0.0012\n",
            "train loss : 0.0010\n"
          ]
        },
        {
          "output_type": "stream",
          "name": "stderr",
          "text": [
            " 62%|██████▏   | 123/200 [00:25<00:09,  7.82it/s]"
          ]
        },
        {
          "output_type": "stream",
          "name": "stdout",
          "text": [
            "train loss : 0.0016\n",
            "train loss : 0.0014\n"
          ]
        },
        {
          "output_type": "stream",
          "name": "stderr",
          "text": [
            " 62%|██████▎   | 125/200 [00:25<00:09,  7.81it/s]"
          ]
        },
        {
          "output_type": "stream",
          "name": "stdout",
          "text": [
            "train loss : 0.0018\n",
            "train loss : 0.0015\n"
          ]
        },
        {
          "output_type": "stream",
          "name": "stderr",
          "text": [
            " 64%|██████▎   | 127/200 [00:26<00:09,  8.05it/s]"
          ]
        },
        {
          "output_type": "stream",
          "name": "stdout",
          "text": [
            "train loss : 0.0010\n",
            "train loss : 0.0008\n"
          ]
        },
        {
          "output_type": "stream",
          "name": "stderr",
          "text": [
            " 64%|██████▍   | 129/200 [00:26<00:08,  8.15it/s]"
          ]
        },
        {
          "output_type": "stream",
          "name": "stdout",
          "text": [
            "train loss : 0.0009\n",
            "train loss : 0.0015\n"
          ]
        },
        {
          "output_type": "stream",
          "name": "stderr",
          "text": [
            " 66%|██████▌   | 131/200 [00:26<00:08,  8.05it/s]"
          ]
        },
        {
          "output_type": "stream",
          "name": "stdout",
          "text": [
            "train loss : 0.0016\n",
            "train loss : 0.0009\n"
          ]
        },
        {
          "output_type": "stream",
          "name": "stderr",
          "text": [
            " 66%|██████▋   | 133/200 [00:26<00:08,  8.16it/s]"
          ]
        },
        {
          "output_type": "stream",
          "name": "stdout",
          "text": [
            "train loss : 0.0011\n",
            "train loss : 0.0012\n"
          ]
        },
        {
          "output_type": "stream",
          "name": "stderr",
          "text": [
            " 68%|██████▊   | 135/200 [00:27<00:08,  8.03it/s]"
          ]
        },
        {
          "output_type": "stream",
          "name": "stdout",
          "text": [
            "train loss : 0.0006\n",
            "train loss : 0.0013\n"
          ]
        },
        {
          "output_type": "stream",
          "name": "stderr",
          "text": [
            " 68%|██████▊   | 137/200 [00:27<00:07,  8.24it/s]"
          ]
        },
        {
          "output_type": "stream",
          "name": "stdout",
          "text": [
            "train loss : 0.0007\n",
            "train loss : 0.0010\n"
          ]
        },
        {
          "output_type": "stream",
          "name": "stderr",
          "text": [
            " 70%|██████▉   | 139/200 [00:27<00:07,  8.46it/s]"
          ]
        },
        {
          "output_type": "stream",
          "name": "stdout",
          "text": [
            "train loss : 0.0014\n",
            "train loss : 0.0024\n"
          ]
        },
        {
          "output_type": "stream",
          "name": "stderr",
          "text": [
            " 70%|███████   | 141/200 [00:27<00:07,  8.05it/s]"
          ]
        },
        {
          "output_type": "stream",
          "name": "stdout",
          "text": [
            "train loss : 0.0012\n",
            "train loss : 0.0009\n"
          ]
        },
        {
          "output_type": "stream",
          "name": "stderr",
          "text": [
            " 72%|███████▏  | 143/200 [00:28<00:07,  8.11it/s]"
          ]
        },
        {
          "output_type": "stream",
          "name": "stdout",
          "text": [
            "train loss : 0.0008\n",
            "train loss : 0.0010\n"
          ]
        },
        {
          "output_type": "stream",
          "name": "stderr",
          "text": [
            " 72%|███████▎  | 145/200 [00:28<00:06,  8.00it/s]"
          ]
        },
        {
          "output_type": "stream",
          "name": "stdout",
          "text": [
            "train loss : 0.0013\n",
            "train loss : 0.0008\n"
          ]
        },
        {
          "output_type": "stream",
          "name": "stderr",
          "text": [
            " 74%|███████▎  | 147/200 [00:28<00:06,  8.41it/s]"
          ]
        },
        {
          "output_type": "stream",
          "name": "stdout",
          "text": [
            "train loss : 0.0007\n",
            "train loss : 0.0012\n"
          ]
        },
        {
          "output_type": "stream",
          "name": "stderr",
          "text": [
            " 74%|███████▍  | 149/200 [00:28<00:06,  8.18it/s]"
          ]
        },
        {
          "output_type": "stream",
          "name": "stdout",
          "text": [
            "train loss : 0.0010\n",
            "train loss : 0.0012\n"
          ]
        },
        {
          "output_type": "stream",
          "name": "stderr",
          "text": [
            " 76%|███████▌  | 151/200 [00:29<00:05,  8.20it/s]"
          ]
        },
        {
          "output_type": "stream",
          "name": "stdout",
          "text": [
            "train loss : 0.0011\n",
            "train loss : 0.0008\n"
          ]
        },
        {
          "output_type": "stream",
          "name": "stderr",
          "text": [
            " 76%|███████▋  | 153/200 [00:29<00:05,  8.15it/s]"
          ]
        },
        {
          "output_type": "stream",
          "name": "stdout",
          "text": [
            "train loss : 0.0019\n",
            "train loss : 0.0016\n"
          ]
        },
        {
          "output_type": "stream",
          "name": "stderr",
          "text": [
            " 78%|███████▊  | 155/200 [00:29<00:05,  8.23it/s]"
          ]
        },
        {
          "output_type": "stream",
          "name": "stdout",
          "text": [
            "train loss : 0.0007\n",
            "train loss : 0.0012\n"
          ]
        },
        {
          "output_type": "stream",
          "name": "stderr",
          "text": [
            " 78%|███████▊  | 157/200 [00:29<00:05,  8.11it/s]"
          ]
        },
        {
          "output_type": "stream",
          "name": "stdout",
          "text": [
            "train loss : 0.0006\n",
            "train loss : 0.0010\n"
          ]
        },
        {
          "output_type": "stream",
          "name": "stderr",
          "text": [
            " 80%|███████▉  | 159/200 [00:30<00:05,  8.17it/s]"
          ]
        },
        {
          "output_type": "stream",
          "name": "stdout",
          "text": [
            "train loss : 0.0009\n",
            "train loss : 0.0009\n"
          ]
        },
        {
          "output_type": "stream",
          "name": "stderr",
          "text": [
            " 80%|████████  | 161/200 [00:30<00:04,  8.26it/s]"
          ]
        },
        {
          "output_type": "stream",
          "name": "stdout",
          "text": [
            "train loss : 0.0009\n",
            "train loss : 0.0009\n"
          ]
        },
        {
          "output_type": "stream",
          "name": "stderr",
          "text": [
            " 82%|████████▏ | 163/200 [00:30<00:04,  8.34it/s]"
          ]
        },
        {
          "output_type": "stream",
          "name": "stdout",
          "text": [
            "train loss : 0.0006\n",
            "train loss : 0.0006\n"
          ]
        },
        {
          "output_type": "stream",
          "name": "stderr",
          "text": [
            " 82%|████████▎ | 165/200 [00:30<00:04,  8.05it/s]"
          ]
        },
        {
          "output_type": "stream",
          "name": "stdout",
          "text": [
            "train loss : 0.0007\n",
            "train loss : 0.0012\n"
          ]
        },
        {
          "output_type": "stream",
          "name": "stderr",
          "text": [
            " 84%|████████▎ | 167/200 [00:31<00:03,  8.38it/s]"
          ]
        },
        {
          "output_type": "stream",
          "name": "stdout",
          "text": [
            "train loss : 0.0008\n",
            "train loss : 0.0014\n"
          ]
        },
        {
          "output_type": "stream",
          "name": "stderr",
          "text": [
            " 84%|████████▍ | 169/200 [00:31<00:03,  8.16it/s]"
          ]
        },
        {
          "output_type": "stream",
          "name": "stdout",
          "text": [
            "train loss : 0.0021\n",
            "train loss : 0.0008\n"
          ]
        },
        {
          "output_type": "stream",
          "name": "stderr",
          "text": [
            " 86%|████████▌ | 171/200 [00:31<00:03,  8.54it/s]"
          ]
        },
        {
          "output_type": "stream",
          "name": "stdout",
          "text": [
            "train loss : 0.0010\n",
            "train loss : 0.0011\n"
          ]
        },
        {
          "output_type": "stream",
          "name": "stderr",
          "text": [
            " 86%|████████▋ | 173/200 [00:31<00:03,  8.41it/s]"
          ]
        },
        {
          "output_type": "stream",
          "name": "stdout",
          "text": [
            "train loss : 0.0011\n",
            "train loss : 0.0007\n"
          ]
        },
        {
          "output_type": "stream",
          "name": "stderr",
          "text": [
            " 88%|████████▊ | 175/200 [00:32<00:03,  8.18it/s]"
          ]
        },
        {
          "output_type": "stream",
          "name": "stdout",
          "text": [
            "train loss : 0.0009\n",
            "train loss : 0.0013\n"
          ]
        },
        {
          "output_type": "stream",
          "name": "stderr",
          "text": [
            " 88%|████████▊ | 177/200 [00:32<00:03,  7.35it/s]"
          ]
        },
        {
          "output_type": "stream",
          "name": "stdout",
          "text": [
            "train loss : 0.0019\n",
            "train loss : 0.0006\n"
          ]
        },
        {
          "output_type": "stream",
          "name": "stderr",
          "text": [
            " 90%|████████▉ | 179/200 [00:32<00:03,  6.46it/s]"
          ]
        },
        {
          "output_type": "stream",
          "name": "stdout",
          "text": [
            "train loss : 0.0009\n",
            "train loss : 0.0013\n"
          ]
        },
        {
          "output_type": "stream",
          "name": "stderr",
          "text": [
            " 90%|█████████ | 181/200 [00:33<00:03,  5.81it/s]"
          ]
        },
        {
          "output_type": "stream",
          "name": "stdout",
          "text": [
            "train loss : 0.0005\n",
            "train loss : 0.0013\n"
          ]
        },
        {
          "output_type": "stream",
          "name": "stderr",
          "text": [
            " 92%|█████████▏| 183/200 [00:33<00:02,  6.79it/s]"
          ]
        },
        {
          "output_type": "stream",
          "name": "stdout",
          "text": [
            "train loss : 0.0007\n",
            "train loss : 0.0012\n"
          ]
        },
        {
          "output_type": "stream",
          "name": "stderr",
          "text": [
            " 92%|█████████▎| 185/200 [00:33<00:02,  7.45it/s]"
          ]
        },
        {
          "output_type": "stream",
          "name": "stdout",
          "text": [
            "train loss : 0.0005\n",
            "train loss : 0.0011\n"
          ]
        },
        {
          "output_type": "stream",
          "name": "stderr",
          "text": [
            " 94%|█████████▎| 187/200 [00:33<00:01,  7.81it/s]"
          ]
        },
        {
          "output_type": "stream",
          "name": "stdout",
          "text": [
            "train loss : 0.0006\n",
            "train loss : 0.0006\n"
          ]
        },
        {
          "output_type": "stream",
          "name": "stderr",
          "text": [
            " 94%|█████████▍| 189/200 [00:34<00:01,  7.12it/s]"
          ]
        },
        {
          "output_type": "stream",
          "name": "stdout",
          "text": [
            "train loss : 0.0005\n",
            "train loss : 0.0009\n"
          ]
        },
        {
          "output_type": "stream",
          "name": "stderr",
          "text": [
            " 96%|█████████▌| 191/200 [00:34<00:01,  7.20it/s]"
          ]
        },
        {
          "output_type": "stream",
          "name": "stdout",
          "text": [
            "train loss : 0.0006\n",
            "train loss : 0.0009\n"
          ]
        },
        {
          "output_type": "stream",
          "name": "stderr",
          "text": [
            " 96%|█████████▋| 193/200 [00:34<00:01,  6.82it/s]"
          ]
        },
        {
          "output_type": "stream",
          "name": "stdout",
          "text": [
            "train loss : 0.0007\n",
            "train loss : 0.0010\n"
          ]
        },
        {
          "output_type": "stream",
          "name": "stderr",
          "text": [
            " 98%|█████████▊| 195/200 [00:34<00:00,  7.08it/s]"
          ]
        },
        {
          "output_type": "stream",
          "name": "stdout",
          "text": [
            "train loss : 0.0008\n",
            "train loss : 0.0013\n"
          ]
        },
        {
          "output_type": "stream",
          "name": "stderr",
          "text": [
            " 98%|█████████▊| 197/200 [00:35<00:00,  6.15it/s]"
          ]
        },
        {
          "output_type": "stream",
          "name": "stdout",
          "text": [
            "train loss : 0.0006\n",
            "train loss : 0.0005\n"
          ]
        },
        {
          "output_type": "stream",
          "name": "stderr",
          "text": [
            "100%|█████████▉| 199/200 [00:35<00:00,  5.77it/s]"
          ]
        },
        {
          "output_type": "stream",
          "name": "stdout",
          "text": [
            "train loss : 0.0007\n",
            "train loss : 0.0007\n"
          ]
        },
        {
          "output_type": "stream",
          "name": "stderr",
          "text": [
            "100%|██████████| 200/200 [00:35<00:00,  5.58it/s]"
          ]
        },
        {
          "output_type": "stream",
          "name": "stdout",
          "text": [
            "train loss : 0.0006\n"
          ]
        },
        {
          "output_type": "stream",
          "name": "stderr",
          "text": [
            "\n"
          ]
        }
      ]
    },
    {
      "cell_type": "code",
      "source": [
        "from sklearn.metrics import classification_report\n",
        "from sklearn.utils.validation import column_or_1d\n",
        "\n",
        "y_true = column_or_1d(splitted_data.y[splitted_data.test_mask].numpy())\n",
        "\n",
        "# 評価データに対する推論\n",
        "with torch.no_grad():\n",
        "    sage_model.eval()\n",
        "    out = sage_model(splitted_data)\n",
        "    y_pred = out.argmax(dim=1)[splitted_data.test_mask]\n",
        "\n",
        "# 評価結果の表示\n",
        "print(classification_report(y_true, y_pred))"
      ],
      "metadata": {
        "colab": {
          "base_uri": "https://localhost:8080/"
        },
        "id": "iJA64vR5qH-V",
        "outputId": "b9a70d6f-7521-4cc4-f6a2-fff1f3ee546c"
      },
      "execution_count": 12,
      "outputs": [
        {
          "output_type": "stream",
          "name": "stdout",
          "text": [
            "              precision    recall  f1-score   support\n",
            "\n",
            "           0       0.78      0.79      0.78       144\n",
            "           1       0.92      0.76      0.83        92\n",
            "           2       0.92      0.96      0.94       163\n",
            "           3       0.88      0.93      0.90       325\n",
            "           4       0.93      0.87      0.89       171\n",
            "           5       0.87      0.89      0.88       123\n",
            "           6       0.92      0.83      0.87        65\n",
            "\n",
            "    accuracy                           0.88      1083\n",
            "   macro avg       0.89      0.86      0.87      1083\n",
            "weighted avg       0.88      0.88      0.88      1083\n",
            "\n"
          ]
        }
      ]
    },
    {
      "cell_type": "markdown",
      "source": [
        "## 6.8.3 GNNによる論文の引用関係の予測"
      ],
      "metadata": {
        "id": "0_MwyKAEsNwW"
      }
    },
    {
      "cell_type": "markdown",
      "source": [
        "続いて、リンク予測を行う例を実装します。\n",
        "リンク予測では、リンクを起点に学習データとテストデータを作成するため、`RandomLinkSplit`を用いてデータを準備します。"
      ],
      "metadata": {
        "id": "GJJt5Bjy5bT6"
      }
    },
    {
      "cell_type": "code",
      "source": [
        "from torch_geometric.transforms import RandomLinkSplit\n",
        "\n",
        "# エッジを学習データとテストデータに分割\n",
        "link_splitter = RandomLinkSplit(\n",
        "    num_val=0.0,         # 検証データの割合\n",
        "    num_test=0.4,        # テストデータの割合\n",
        "    is_undirected=True,  # 無向ネットワークかどうか\n",
        ")\n",
        "train_data, _, test_data = link_splitter(dataset._data)\n",
        "# 学習に用いるエッジを示す配列の形状\n",
        "print(train_data.edge_label_index.shape)\n",
        "# テストに用いるエッジ示す配列の形状\n",
        "print(test_data.edge_label_index.shape)"
      ],
      "metadata": {
        "colab": {
          "base_uri": "https://localhost:8080/"
        },
        "id": "MxmIJwGWoJUk",
        "outputId": "731111ae-1e02-44a0-c57e-087709defebc"
      },
      "execution_count": 14,
      "outputs": [
        {
          "output_type": "stream",
          "name": "stdout",
          "text": [
            "torch.Size([2, 6334])\n",
            "torch.Size([2, 4222])\n"
          ]
        }
      ]
    },
    {
      "cell_type": "markdown",
      "source": [
        "続いて、モデルを定義します。ここでは、ノード分類と同じように`GCNConv`によりノード特徴を変換してから、間にリンクがあるかどうかを予測する2ノードの特徴の内積を0~1の範囲に変換したものをリンクの存在確率として出力します。"
      ],
      "metadata": {
        "id": "C8hYtSHU6H6l"
      }
    },
    {
      "cell_type": "code",
      "source": [
        "# GCNによる特徴変換の定義\n",
        "class GCNLayer(torch.nn.Module):\n",
        "\n",
        "    def __init__(\n",
        "        self,\n",
        "        num_node_features: int,  # 入力層の次元数 = ノードの特徴量の次元数\n",
        "        projection_dim: int,     # 中間層の次元数\n",
        "    ) -> None:\n",
        "        super().__init__()\n",
        "        self.conv1 = GCNConv(num_node_features, projection_dim)\n",
        "        self.conv2 = GCNConv(projection_dim, projection_dim)\n",
        "\n",
        "    def forward(self, data: Data) -> torch.Tensor:\n",
        "        x, edge_index = data.x, data.edge_index\n",
        "        x = self.conv1(x, edge_index)\n",
        "        x = F.relu(x)\n",
        "        x = F.dropout(x, training=self.training)\n",
        "        return self.conv2(x, edge_index)\n",
        "\n",
        "\n",
        "# リンク予測モデルの定義\n",
        "class LinkPredModel(torch.nn.Module):\n",
        "    def __init__(\n",
        "        self,\n",
        "        num_node_features: int,\n",
        "        projection_dim: int,\n",
        "    ) -> None:\n",
        "        super().__init__()\n",
        "        self.gcn_layer = GCNLayer(num_node_features, projection_dim)\n",
        "\n",
        "    def forward(self, data: Data, edge_label_index: torch.Tensor) -> None:\n",
        "        x = self.gcn_layer(data)\n",
        "        x_src = x[edge_label_index[0]]\n",
        "        x_dst = x[edge_label_index[1]]\n",
        "        # 内積をシグモイド関数に入力して、0〜1の値に変換\n",
        "        return F.sigmoid((x_src * x_dst).sum(-1))"
      ],
      "metadata": {
        "id": "BOPj5uSMsKbE"
      },
      "execution_count": 15,
      "outputs": []
    },
    {
      "cell_type": "code",
      "source": [
        "# リンク予測モデルのインスタンス化\n",
        "device = \"cuda\" if torch.cuda.is_available() else \"cpu\"\n",
        "link_pred_model = LinkPredModel(\n",
        "    num_node_features=dataset.num_node_features,\n",
        "    projection_dim=64,\n",
        ").to(device)\n",
        "\n",
        "# 最適化アルゴリズムの選択\n",
        "link_pred_optimizer = torch.optim.Adam(list(link_pred_model.parameters()), lr=0.01)"
      ],
      "metadata": {
        "id": "ggjFpCOyoO0m"
      },
      "execution_count": 16,
      "outputs": []
    },
    {
      "cell_type": "markdown",
      "source": [
        "続いて、学習を行います。学習にはネガティブサンプリングを利用し、実際に学習データとして存在するリンクの存在確率が1に、ランダムにサンプリングされたリンクの存在確率が0に近づくようにパラメータの更新を行います。\n",
        "\n",
        "損失関数には、交差エントロピーを用います。"
      ],
      "metadata": {
        "id": "yWP58Sk16r1-"
      }
    },
    {
      "cell_type": "code",
      "source": [
        "from torch_geometric.utils import negative_sampling\n",
        "\n",
        "\n",
        "# リンク予測モデルを学習する関数の定義\n",
        "def train_link_pred_model() -> float:\n",
        "    link_pred_model.train()\n",
        "    link_pred_optimizer.zero_grad()\n",
        "\n",
        "    total_loss = 0\n",
        "    link_pred_optimizer.zero_grad()\n",
        "\n",
        "    # ネガティブサンプリングによる負例の獲得\n",
        "    negative_edge_index = negative_sampling(\n",
        "        edge_index=train_data.edge_index,\n",
        "        num_nodes=train_data.num_nodes,\n",
        "        num_neg_samples=train_data.edge_label_index.size(1),\n",
        "        method=\"sparse\",\n",
        "    )\n",
        "\n",
        "    # 学習対象のエッジのインデックス\n",
        "    edge_label_index = torch.cat(\n",
        "        [train_data.edge_label_index, negative_edge_index],\n",
        "        dim=-1,\n",
        "    )\n",
        "\n",
        "    # 学習対象のエッジのラベル\n",
        "    # 1は実在するリンク、0はランダムに選ばれたノード間のリンク\n",
        "    edge_label = torch.cat(\n",
        "        [\n",
        "            train_data.edge_label,\n",
        "            train_data.edge_label.new_zeros(negative_edge_index.size(1)),\n",
        "        ],\n",
        "        dim=0,\n",
        "    )\n",
        "    out = link_pred_model(train_data, edge_label_index)\n",
        "    loss = F.binary_cross_entropy(out, edge_label)\n",
        "    loss.backward()\n",
        "    link_pred_optimizer.step()\n",
        "    total_loss += loss.item()\n",
        "    return total_loss\n",
        "\n",
        "\n",
        "# リンク予測モデルの学習の実行\n",
        "for epoch in range(1, 31):\n",
        "    loss = train_link_pred_model()\n",
        "    print(f\"train loss : {loss:.4f}\")"
      ],
      "metadata": {
        "colab": {
          "base_uri": "https://localhost:8080/"
        },
        "id": "ekbTvTTqzvEk",
        "outputId": "12ad867d-80fc-4427-d093-0344e6bf5ecc"
      },
      "execution_count": 17,
      "outputs": [
        {
          "output_type": "stream",
          "name": "stdout",
          "text": [
            "train loss : 0.7052\n",
            "train loss : 0.8079\n",
            "train loss : 0.6961\n",
            "train loss : 0.6959\n",
            "train loss : 0.6945\n",
            "train loss : 0.6928\n",
            "train loss : 0.6901\n",
            "train loss : 0.6859\n",
            "train loss : 0.6812\n",
            "train loss : 0.6753\n",
            "train loss : 0.6679\n",
            "train loss : 0.6609\n",
            "train loss : 0.6563\n",
            "train loss : 0.6491\n",
            "train loss : 0.6446\n",
            "train loss : 0.6341\n",
            "train loss : 0.6321\n",
            "train loss : 0.6289\n",
            "train loss : 0.6281\n",
            "train loss : 0.6258\n",
            "train loss : 0.6182\n",
            "train loss : 0.6140\n",
            "train loss : 0.6136\n",
            "train loss : 0.6102\n",
            "train loss : 0.6077\n",
            "train loss : 0.6066\n",
            "train loss : 0.6008\n",
            "train loss : 0.5950\n",
            "train loss : 0.5915\n",
            "train loss : 0.5931\n"
          ]
        }
      ]
    },
    {
      "cell_type": "markdown",
      "source": [
        "リンク予測モデルの評価を行います。ここでは、scikit-learnの`roc_auc_score`を用いてROC曲線のAUCを計算します。"
      ],
      "metadata": {
        "id": "LNHWwv9o7R8M"
      }
    },
    {
      "cell_type": "code",
      "source": [
        "from sklearn.metrics import roc_auc_score\n",
        "\n",
        "# 評価データに対する推論\n",
        "with torch.no_grad():\n",
        "    link_pred_model.eval()\n",
        "    out = link_pred_model(test_data, test_data.edge_label_index)\n",
        "    y_true = test_data.edge_label.numpy()\n",
        "    y_pred = out.numpy()\n",
        "\n",
        "# AUCの計算\n",
        "print(f\"AUC : {roc_auc_score(y_true, y_pred):.4f}\")"
      ],
      "metadata": {
        "colab": {
          "base_uri": "https://localhost:8080/"
        },
        "id": "sRsowcVd51Oy",
        "outputId": "1b291f14-5092-4be3-8b6c-7596c0c90790"
      },
      "execution_count": null,
      "outputs": [
        {
          "output_type": "stream",
          "name": "stdout",
          "text": [
            "AUC : 0.8340\n"
          ]
        }
      ]
    },
    {
      "cell_type": "markdown",
      "source": [
        "実際にROC曲線を描画してみます。ROC曲線の描画は、scikit-learnの`roc_curve`で得られた配列をMatplotlibでプロットすることで実現できます。"
      ],
      "metadata": {
        "id": "TnzdUbdh7hcY"
      }
    },
    {
      "cell_type": "code",
      "source": [
        "import matplotlib.pyplot as plt\n",
        "from sklearn.metrics import roc_curve\n",
        "\n",
        "# ROC曲線の描画\n",
        "fpr, tpr, _ = roc_curve(y_true, y_pred)\n",
        "plt.plot(fpr, tpr)\n",
        "plt.xlim([0, 1])\n",
        "plt.ylim([0, 1])\n",
        "plt.xlabel(\"False Positive Rate\")\n",
        "plt.ylabel(\"True Positive Rate\")\n",
        "plt.show()"
      ],
      "metadata": {
        "colab": {
          "base_uri": "https://localhost:8080/",
          "height": 455
        },
        "id": "Xg452ibmGDSS",
        "outputId": "8c9ac1b4-3887-44fd-a709-de42729f114e"
      },
      "execution_count": null,
      "outputs": [
        {
          "output_type": "display_data",
          "data": {
            "text/plain": [
              "<Figure size 640x480 with 1 Axes>"
            ],
            "image/png": "[encoded data removed]"
          },
          "metadata": {}
        }
      ]
    }
  ]
}